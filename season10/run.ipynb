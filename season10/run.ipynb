{
 "cells": [
  {
   "cell_type": "code",
   "execution_count": 6,
   "id": "4UxLXpVnINnF",
   "metadata": {
    "executionInfo": {
     "elapsed": 16,
     "status": "ok",
     "timestamp": 1688813592534,
     "user": {
      "displayName": "tulsi kumar gupta",
      "userId": "15097001507503089918"
     },
     "user_tz": -330
    },
    "id": "4UxLXpVnINnF"
   },
   "outputs": [],
   "source": [
    "import sys\n",
    "import os\n",
    "sys.path.append(os.path.abspath(\"/content/drive/MyDrive/Colab Notebooks/session10\"))\n",
    "os.chdir(\"/content/drive/MyDrive/Colab Notebooks/session10\")"
   ]
  },
  {
   "cell_type": "code",
   "execution_count": 7,
   "id": "10yn9f93ImoA",
   "metadata": {
    "colab": {
     "base_uri": "https://localhost:8080/",
     "height": 35
    },
    "executionInfo": {
     "elapsed": 19,
     "status": "ok",
     "timestamp": 1688813602074,
     "user": {
      "displayName": "tulsi kumar gupta",
      "userId": "15097001507503089918"
     },
     "user_tz": -330
    },
    "id": "10yn9f93ImoA",
    "outputId": "035a5e91-2806-42f6-b699-faf9ce01c236"
   },
   "outputs": [
    {
     "data": {
      "application/vnd.google.colaboratory.intrinsic+json": {
       "type": "string"
      },
      "text/plain": [
       "'/content/drive/MyDrive/Colab Notebooks/session10'"
      ]
     },
     "execution_count": 7,
     "metadata": {},
     "output_type": "execute_result"
    }
   ],
   "source": [
    "%pwd"
   ]
  },
  {
   "cell_type": "code",
   "execution_count": 8,
   "id": "605e2361-d8b8-4f2b-9ba1-040b85b934fa",
   "metadata": {
    "executionInfo": {
     "elapsed": 6,
     "status": "ok",
     "timestamp": 1688813606958,
     "user": {
      "displayName": "tulsi kumar gupta",
      "userId": "15097001507503089918"
     },
     "user_tz": -330
    },
    "id": "605e2361-d8b8-4f2b-9ba1-040b85b934fa"
   },
   "outputs": [],
   "source": [
    "\n",
    "from __future__ import print_function\n",
    "import torch\n",
    "import torch.nn as nn\n",
    "import torch.nn.functional as F\n",
    "import torch.optim as optim\n",
    "from torchvision import datasets, transforms\n",
    "import os\n",
    "os.environ['KMP_DUPLICATE_LIB_OK']='True'"
   ]
  },
  {
   "cell_type": "code",
   "execution_count": 10,
   "id": "b1208313-ac0d-4102-aed0-2ed39c3fbe7c",
   "metadata": {
    "executionInfo": {
     "elapsed": 3038,
     "status": "ok",
     "timestamp": 1688813622271,
     "user": {
      "displayName": "tulsi kumar gupta",
      "userId": "15097001507503089918"
     },
     "user_tz": -330
    },
    "id": "b1208313-ac0d-4102-aed0-2ed39c3fbe7c"
   },
   "outputs": [],
   "source": [
    "from transforms import CustomResnetTransforms\n",
    "from dataloader import Cifar10SearchDataset"
   ]
  },
  {
   "cell_type": "code",
   "execution_count": 13,
   "id": "868db7a9-ca78-4e0d-ac04-7c6c712a6247",
   "metadata": {
    "colab": {
     "base_uri": "https://localhost:8080/"
    },
    "executionInfo": {
     "elapsed": 522,
     "status": "ok",
     "timestamp": 1688813658663,
     "user": {
      "displayName": "tulsi kumar gupta",
      "userId": "15097001507503089918"
     },
     "user_tz": -330
    },
    "id": "868db7a9-ca78-4e0d-ac04-7c6c712a6247",
    "outputId": "fec596a4-22fd-4949-d1b6-5d1339f9fe27"
   },
   "outputs": [
    {
     "name": "stderr",
     "output_type": "stream",
     "text": [
      "/usr/local/lib/python3.10/dist-packages/albumentations/augmentations/dropout/cutout.py:50: FutureWarning: Cutout has been deprecated. Please use CoarseDropout\n",
      "  warnings.warn(\n"
     ]
    }
   ],
   "source": [
    "means = [0.4914, 0.4822, 0.4465]\n",
    "stds = [0.2470, 0.2435, 0.2616]\n",
    "\n",
    "train_transforms = CustomResnetTransforms.train_transforms(means, stds)\n",
    "test_transforms = CustomResnetTransforms.test_transforms(means, stds)"
   ]
  },
  {
   "cell_type": "code",
   "execution_count": 14,
   "id": "479979c7-357b-4eca-a36a-1f671700c5bc",
   "metadata": {
    "colab": {
     "base_uri": "https://localhost:8080/"
    },
    "executionInfo": {
     "elapsed": 6671,
     "status": "ok",
     "timestamp": 1688813669311,
     "user": {
      "displayName": "tulsi kumar gupta",
      "userId": "15097001507503089918"
     },
     "user_tz": -330
    },
    "id": "479979c7-357b-4eca-a36a-1f671700c5bc",
    "outputId": "07863867-50a7-4c80-951a-d363dc99231f"
   },
   "outputs": [
    {
     "name": "stdout",
     "output_type": "stream",
     "text": [
      "Downloading https://www.cs.toronto.edu/~kriz/cifar-10-python.tar.gz to ./data/cifar-10-python.tar.gz\n"
     ]
    },
    {
     "name": "stderr",
     "output_type": "stream",
     "text": [
      "100%|██████████| 170498071/170498071 [00:01<00:00, 97259650.60it/s] \n"
     ]
    },
    {
     "name": "stdout",
     "output_type": "stream",
     "text": [
      "Extracting ./data/cifar-10-python.tar.gz to ./data\n",
      "Files already downloaded and verified\n"
     ]
    }
   ],
   "source": [
    "train = Cifar10SearchDataset(root='./data', train=True,\n",
    "                                        download=True, transform=train_transforms)\n",
    "test = Cifar10SearchDataset(root='./data', train=False,\n",
    "                                       download=True, transform=test_transforms)"
   ]
  },
  {
   "cell_type": "code",
   "execution_count": 15,
   "id": "2b15da7f-dfd7-4eea-946e-3f38ba037306",
   "metadata": {
    "colab": {
     "base_uri": "https://localhost:8080/"
    },
    "executionInfo": {
     "elapsed": 737,
     "status": "ok",
     "timestamp": 1688813677649,
     "user": {
      "displayName": "tulsi kumar gupta",
      "userId": "15097001507503089918"
     },
     "user_tz": -330
    },
    "id": "2b15da7f-dfd7-4eea-946e-3f38ba037306",
    "outputId": "be582de4-683b-4ae6-f874-f5175f6f69dd"
   },
   "outputs": [
    {
     "name": "stdout",
     "output_type": "stream",
     "text": [
      "CUDA Available? True\n"
     ]
    }
   ],
   "source": [
    "SEED = 1\n",
    "\n",
    "# CUDA?\n",
    "cuda = torch.cuda.is_available()\n",
    "print(\"CUDA Available?\", cuda)\n",
    "\n",
    "# For reproducibility\n",
    "torch.manual_seed(SEED)\n",
    "\n",
    "if cuda:\n",
    "    torch.cuda.manual_seed(SEED)\n",
    "\n",
    "# dataloader arguments - something you'll fetch these from cmdprmt\n",
    "dataloader_args = dict(shuffle=True, batch_size=512, num_workers=0, pin_memory=True) if cuda else dict(shuffle=True, batch_size=64)\n",
    "\n",
    "# train dataloader\n",
    "train_loader = torch.utils.data.DataLoader(train, **dataloader_args)\n",
    "\n",
    "# test dataloader\n",
    "test_loader = torch.utils.data.DataLoader(test, **dataloader_args)"
   ]
  },
  {
   "cell_type": "code",
   "execution_count": 18,
   "id": "08NmB39MJBrY",
   "metadata": {
    "colab": {
     "base_uri": "https://localhost:8080/"
    },
    "executionInfo": {
     "elapsed": 4834,
     "status": "ok",
     "timestamp": 1688813720740,
     "user": {
      "displayName": "tulsi kumar gupta",
      "userId": "15097001507503089918"
     },
     "user_tz": -330
    },
    "id": "08NmB39MJBrY",
    "outputId": "c2e4ad2b-3270-4083-99e4-40daf9c28b0b"
   },
   "outputs": [
    {
     "name": "stdout",
     "output_type": "stream",
     "text": [
      "Collecting torchinfo\n",
      "  Downloading torchinfo-1.8.0-py3-none-any.whl (23 kB)\n",
      "Installing collected packages: torchinfo\n",
      "Successfully installed torchinfo-1.8.0\n"
     ]
    }
   ],
   "source": [
    "!pip install torchinfo"
   ]
  },
  {
   "cell_type": "code",
   "execution_count": 20,
   "id": "7384724c-ce65-498f-938b-d02ad486ca36",
   "metadata": {
    "colab": {
     "base_uri": "https://localhost:8080/",
     "height": 228
    },
    "executionInfo": {
     "elapsed": 7005,
     "status": "ok",
     "timestamp": 1688813777287,
     "user": {
      "displayName": "tulsi kumar gupta",
      "userId": "15097001507503089918"
     },
     "user_tz": -330
    },
    "id": "7384724c-ce65-498f-938b-d02ad486ca36",
    "outputId": "f6c7c887-01ec-4d59-ef9f-874f1f83c70c"
   },
   "outputs": [
    {
     "name": "stderr",
     "output_type": "stream",
     "text": [
      "WARNING:matplotlib.image:Clipping input data to the valid range for imshow with RGB data ([0..1] for floats or [0..255] for integers).\n"
     ]
    },
    {
     "data": {
      "image/png": "[encoded data removed]",
      "text/plain": [
       "<Figure size 640x480 with 1 Axes>"
      ]
     },
     "metadata": {},
     "output_type": "display_data"
    },
    {
     "name": "stdout",
     "output_type": "stream",
     "text": [
      "ship  bird  cat   dog  \n"
     ]
    }
   ],
   "source": [
    "import matplotlib.pyplot as plt\n",
    "import numpy as np\n",
    "from utils import imshow\n",
    "\n",
    "# functions to show an image\n",
    "\n",
    "\n",
    "# def imshow(img):\n",
    "#     img = img / 2 + 0.5     # unnormalize\n",
    "#     npimg = img.numpy()\n",
    "#     plt.imshow(np.transpose(npimg, (1, 2, 0)))\n",
    "#     plt.show()\n",
    "\n",
    "\n",
    "# get some random training images\n",
    "dataiter = iter(train_loader)\n",
    "images, labels = next(dataiter)\n",
    "classes = ('plane', 'car', 'bird', 'cat',\n",
    "           'deer', 'dog', 'frog', 'horse', 'ship', 'truck')\n",
    "\n",
    "import torchvision\n",
    "# show images\n",
    "imshow(torchvision.utils.make_grid(images[:4]))\n",
    "# print labels\n",
    "print(' '.join(f'{classes[labels[j]]:5s}' for j in range(4)))"
   ]
  },
  {
   "cell_type": "code",
   "execution_count": 21,
   "id": "37cd4973-21db-4d86-9355-db8d100e0d2f",
   "metadata": {
    "executionInfo": {
     "elapsed": 5,
     "status": "ok",
     "timestamp": 1688813809804,
     "user": {
      "displayName": "tulsi kumar gupta",
      "userId": "15097001507503089918"
     },
     "user_tz": -330
    },
    "id": "37cd4973-21db-4d86-9355-db8d100e0d2f"
   },
   "outputs": [],
   "source": [
    "from model import MyResNet\n",
    "from utils import print_summary, get_lr, get_device"
   ]
  },
  {
   "cell_type": "code",
   "execution_count": 27,
   "id": "780b0723-1498-4a1a-b921-119b2ccfa207",
   "metadata": {
    "colab": {
     "base_uri": "https://localhost:8080/"
    },
    "collapsed": true,
    "executionInfo": {
     "elapsed": 9,
     "status": "ok",
     "timestamp": 1688814222823,
     "user": {
      "displayName": "tulsi kumar gupta",
      "userId": "15097001507503089918"
     },
     "user_tz": -330
    },
    "id": "780b0723-1498-4a1a-b921-119b2ccfa207",
    "jupyter": {
     "outputs_hidden": true
    },
    "outputId": "fbc07934-232b-45d6-d6c8-b017407b9ed0",
    "tags": []
   },
   "outputs": [
    {
     "name": "stdout",
     "output_type": "stream",
     "text": [
      "cuda\n"
     ]
    },
    {
     "data": {
      "text/plain": [
       "==========================================================================================\n",
       "Layer (type:depth-idx)                   Output Shape              Param #\n",
       "==========================================================================================\n",
       "MyResNet                                 [512, 10]                 --\n",
       "├─Sequential: 1-1                        [512, 64, 32, 32]         --\n",
       "│    └─Conv2d: 2-1                       [512, 64, 32, 32]         1,792\n",
       "│    └─BatchNorm2d: 2-2                  [512, 64, 32, 32]         128\n",
       "│    └─ReLU: 2-3                         [512, 64, 32, 32]         --\n",
       "├─Sequential: 1-2                        [512, 128, 16, 16]        --\n",
       "│    └─Conv2d: 2-4                       [512, 128, 32, 32]        73,856\n",
       "│    └─MaxPool2d: 2-5                    [512, 128, 16, 16]        --\n",
       "│    └─BatchNorm2d: 2-6                  [512, 128, 16, 16]        256\n",
       "│    └─ReLU: 2-7                         [512, 128, 16, 16]        --\n",
       "├─ResBlock: 1-3                          [512, 128, 16, 16]        --\n",
       "│    └─Sequential: 2-8                   [512, 128, 16, 16]        --\n",
       "│    │    └─Conv2d: 3-1                  [512, 128, 16, 16]        147,456\n",
       "│    │    └─BatchNorm2d: 3-2             [512, 128, 16, 16]        256\n",
       "│    │    └─ReLU: 3-3                    [512, 128, 16, 16]        --\n",
       "│    │    └─Conv2d: 3-4                  [512, 128, 16, 16]        147,456\n",
       "│    │    └─BatchNorm2d: 3-5             [512, 128, 16, 16]        256\n",
       "│    │    └─ReLU: 3-6                    [512, 128, 16, 16]        --\n",
       "├─Sequential: 1-4                        [512, 256, 8, 8]          --\n",
       "│    └─Conv2d: 2-9                       [512, 256, 16, 16]        295,168\n",
       "│    └─MaxPool2d: 2-10                   [512, 256, 8, 8]          --\n",
       "│    └─BatchNorm2d: 2-11                 [512, 256, 8, 8]          512\n",
       "│    └─ReLU: 2-12                        [512, 256, 8, 8]          --\n",
       "├─Sequential: 1-5                        [512, 512, 4, 4]          --\n",
       "│    └─Conv2d: 2-13                      [512, 512, 8, 8]          1,180,160\n",
       "│    └─MaxPool2d: 2-14                   [512, 512, 4, 4]          --\n",
       "│    └─BatchNorm2d: 2-15                 [512, 512, 4, 4]          1,024\n",
       "│    └─ReLU: 2-16                        [512, 512, 4, 4]          --\n",
       "├─ResBlock: 1-6                          [512, 512, 4, 4]          --\n",
       "│    └─Sequential: 2-17                  [512, 512, 4, 4]          --\n",
       "│    │    └─Conv2d: 3-7                  [512, 512, 4, 4]          2,359,296\n",
       "│    │    └─BatchNorm2d: 3-8             [512, 512, 4, 4]          1,024\n",
       "│    │    └─ReLU: 3-9                    [512, 512, 4, 4]          --\n",
       "│    │    └─Conv2d: 3-10                 [512, 512, 4, 4]          2,359,296\n",
       "│    │    └─BatchNorm2d: 3-11            [512, 512, 4, 4]          1,024\n",
       "│    │    └─ReLU: 3-12                   [512, 512, 4, 4]          --\n",
       "├─MaxPool2d: 1-7                         [512, 512, 1, 1]          --\n",
       "├─Linear: 1-8                            [512, 10]                 5,130\n",
       "==========================================================================================\n",
       "Total params: 6,574,090\n",
       "Trainable params: 6,574,090\n",
       "Non-trainable params: 0\n",
       "Total mult-adds (G): 194.34\n",
       "==========================================================================================\n",
       "Input size (MB): 6.29\n",
       "Forward/backward pass size (MB): 2382.41\n",
       "Params size (MB): 26.30\n",
       "Estimated Total Size (MB): 2414.99\n",
       "=========================================================================================="
      ]
     },
     "execution_count": 27,
     "metadata": {},
     "output_type": "execute_result"
    }
   ],
   "source": [
    "# from torchinfo import summary\n",
    "\n",
    "# use_cuda = torch.cuda.is_available()\n",
    "# device = torch.device(\"cuda\" if use_cuda else \"cpu\")\n",
    "# print(device)\n",
    "# model = MyResNet().to(device)\n",
    "# summary(model, input_size=(3, 32, 32))\n",
    "\n",
    "use_cuda = torch.cuda.is_available()\n",
    "device = torch.device(\"cuda\" if use_cuda else \"cpu\")\n",
    "print(device)\n",
    "model = MyResNet().to(device)\n",
    "summary(model, input_size=(512, 3, 32, 32))"
   ]
  },
  {
   "cell_type": "code",
   "execution_count": 41,
   "id": "c63ef921-5612-4804-a4db-14cb719ea226",
   "metadata": {
    "executionInfo": {
     "elapsed": 5,
     "status": "ok",
     "timestamp": 1688816664488,
     "user": {
      "displayName": "tulsi kumar gupta",
      "userId": "15097001507503089918"
     },
     "user_tz": -330
    },
    "id": "c63ef921-5612-4804-a4db-14cb719ea226"
   },
   "outputs": [],
   "source": [
    "# device = get_device()\n",
    "# print(device)\n",
    "# model = MyResNet().to(device)\n",
    "# print_summary(model, device, input_size=(512,3, 32, 32))"
   ]
  },
  {
   "cell_type": "code",
   "execution_count": 30,
   "id": "b4a362db-fc34-48ac-814d-0135a8de29ae",
   "metadata": {
    "executionInfo": {
     "elapsed": 2,
     "status": "ok",
     "timestamp": 1688814256319,
     "user": {
      "displayName": "tulsi kumar gupta",
      "userId": "15097001507503089918"
     },
     "user_tz": -330
    },
    "id": "b4a362db-fc34-48ac-814d-0135a8de29ae"
   },
   "outputs": [],
   "source": [
    "from train import train, test\n"
   ]
  },
  {
   "cell_type": "code",
   "execution_count": 31,
   "id": "zvhW7YMpLM1D",
   "metadata": {
    "colab": {
     "base_uri": "https://localhost:8080/"
    },
    "executionInfo": {
     "elapsed": 3547,
     "status": "ok",
     "timestamp": 1688814282964,
     "user": {
      "displayName": "tulsi kumar gupta",
      "userId": "15097001507503089918"
     },
     "user_tz": -330
    },
    "id": "zvhW7YMpLM1D",
    "outputId": "4f273130-bc10-48cc-883d-51971b265319"
   },
   "outputs": [
    {
     "name": "stdout",
     "output_type": "stream",
     "text": [
      "Collecting torch-lr-finder\n",
      "  Downloading torch_lr_finder-0.2.1-py3-none-any.whl (11 kB)\n",
      "Requirement already satisfied: matplotlib in /usr/local/lib/python3.10/dist-packages (from torch-lr-finder) (3.7.1)\n",
      "Requirement already satisfied: numpy in /usr/local/lib/python3.10/dist-packages (from torch-lr-finder) (1.22.4)\n",
      "Requirement already satisfied: torch>=0.4.1 in /usr/local/lib/python3.10/dist-packages (from torch-lr-finder) (2.0.1+cu118)\n",
      "Requirement already satisfied: tqdm in /usr/local/lib/python3.10/dist-packages (from torch-lr-finder) (4.65.0)\n",
      "Requirement already satisfied: packaging in /usr/local/lib/python3.10/dist-packages (from torch-lr-finder) (23.1)\n",
      "Requirement already satisfied: filelock in /usr/local/lib/python3.10/dist-packages (from torch>=0.4.1->torch-lr-finder) (3.12.2)\n",
      "Requirement already satisfied: typing-extensions in /usr/local/lib/python3.10/dist-packages (from torch>=0.4.1->torch-lr-finder) (4.6.3)\n",
      "Requirement already satisfied: sympy in /usr/local/lib/python3.10/dist-packages (from torch>=0.4.1->torch-lr-finder) (1.11.1)\n",
      "Requirement already satisfied: networkx in /usr/local/lib/python3.10/dist-packages (from torch>=0.4.1->torch-lr-finder) (3.1)\n",
      "Requirement already satisfied: jinja2 in /usr/local/lib/python3.10/dist-packages (from torch>=0.4.1->torch-lr-finder) (3.1.2)\n",
      "Requirement already satisfied: triton==2.0.0 in /usr/local/lib/python3.10/dist-packages (from torch>=0.4.1->torch-lr-finder) (2.0.0)\n",
      "Requirement already satisfied: cmake in /usr/local/lib/python3.10/dist-packages (from triton==2.0.0->torch>=0.4.1->torch-lr-finder) (3.25.2)\n",
      "Requirement already satisfied: lit in /usr/local/lib/python3.10/dist-packages (from triton==2.0.0->torch>=0.4.1->torch-lr-finder) (16.0.6)\n",
      "Requirement already satisfied: contourpy>=1.0.1 in /usr/local/lib/python3.10/dist-packages (from matplotlib->torch-lr-finder) (1.1.0)\n",
      "Requirement already satisfied: cycler>=0.10 in /usr/local/lib/python3.10/dist-packages (from matplotlib->torch-lr-finder) (0.11.0)\n",
      "Requirement already satisfied: fonttools>=4.22.0 in /usr/local/lib/python3.10/dist-packages (from matplotlib->torch-lr-finder) (4.40.0)\n",
      "Requirement already satisfied: kiwisolver>=1.0.1 in /usr/local/lib/python3.10/dist-packages (from matplotlib->torch-lr-finder) (1.4.4)\n",
      "Requirement already satisfied: pillow>=6.2.0 in /usr/local/lib/python3.10/dist-packages (from matplotlib->torch-lr-finder) (8.4.0)\n",
      "Requirement already satisfied: pyparsing>=2.3.1 in /usr/local/lib/python3.10/dist-packages (from matplotlib->torch-lr-finder) (3.1.0)\n",
      "Requirement already satisfied: python-dateutil>=2.7 in /usr/local/lib/python3.10/dist-packages (from matplotlib->torch-lr-finder) (2.8.2)\n",
      "Requirement already satisfied: six>=1.5 in /usr/local/lib/python3.10/dist-packages (from python-dateutil>=2.7->matplotlib->torch-lr-finder) (1.16.0)\n",
      "Requirement already satisfied: MarkupSafe>=2.0 in /usr/local/lib/python3.10/dist-packages (from jinja2->torch>=0.4.1->torch-lr-finder) (2.1.3)\n",
      "Requirement already satisfied: mpmath>=0.19 in /usr/local/lib/python3.10/dist-packages (from sympy->torch>=0.4.1->torch-lr-finder) (1.3.0)\n",
      "Installing collected packages: torch-lr-finder\n",
      "Successfully installed torch-lr-finder-0.2.1\n"
     ]
    }
   ],
   "source": [
    "!pip install torch-lr-finder"
   ]
  },
  {
   "cell_type": "code",
   "execution_count": 32,
   "id": "2b643fa1-37ac-4f7d-af3b-f29b5a38b773",
   "metadata": {
    "colab": {
     "base_uri": "https://localhost:8080/",
     "height": 610,
     "referenced_widgets": [
      "d0ed909b7496484c9c79a1c17df96a66",
      "46f57814ff50401bb81cb57b7ea3273f",
      "867fa5e8ffc04f40aa033266133e4408",
      "dc07957437e747b89699642ffa03dfae",
      "345378657eb448c99756d2a1a8c529b5",
      "7ee231c82ed0421d89c170c206f48c5d",
      "e14adf20980d42bf985384c2aad6a78b",
      "5c1a5961e58c47c6bc04623f1864a37a",
      "fea933e8ff01473f9f5e10e8c06ce58e",
      "6f7b6ac2519b440a89366dbfc408aff8",
      "ace150b47f5b4486ad8cffd8af5b518c"
     ]
    },
    "collapsed": true,
    "executionInfo": {
     "elapsed": 49895,
     "status": "ok",
     "timestamp": 1688814339839,
     "user": {
      "displayName": "tulsi kumar gupta",
      "userId": "15097001507503089918"
     },
     "user_tz": -330
    },
    "id": "2b643fa1-37ac-4f7d-af3b-f29b5a38b773",
    "jupyter": {
     "outputs_hidden": true
    },
    "outputId": "655809db-0653-47d3-a65b-bacb54edced3",
    "tags": []
   },
   "outputs": [
    {
     "name": "stderr",
     "output_type": "stream",
     "text": [
      "/usr/local/lib/python3.10/dist-packages/torch_lr_finder/lr_finder.py:5: TqdmExperimentalWarning: Using `tqdm.autonotebook.tqdm` in notebook mode. Use `tqdm.tqdm` instead to force console mode (e.g. in jupyter console)\n",
      "  from tqdm.autonotebook import tqdm\n"
     ]
    },
    {
     "data": {
      "application/vnd.jupyter.widget-view+json": {
       "model_id": "d0ed909b7496484c9c79a1c17df96a66",
       "version_major": 2,
       "version_minor": 0
      },
      "text/plain": [
       "  0%|          | 0/200 [00:00<?, ?it/s]"
      ]
     },
     "metadata": {},
     "output_type": "display_data"
    },
    {
     "name": "stdout",
     "output_type": "stream",
     "text": [
      "Stopping early, the loss has diverged\n",
      "Learning rate search finished. See the graph with {finder_name}.plot()\n",
      "LR suggestion: steepest gradient\n",
      "Suggested LR: 3.04E-02\n"
     ]
    },
    {
     "data": {
      "image/png": "[encoded data removed]",
      "text/plain": [
       "<Figure size 640x480 with 1 Axes>"
      ]
     },
     "metadata": {},
     "output_type": "display_data"
    }
   ],
   "source": [
    "from torch_lr_finder import LRFinder\n",
    "\n",
    "model = MyResNet().to(device)\n",
    "optimizer = optim.Adam(model.parameters(), lr=0.01, weight_decay=1e-4)\n",
    "criterion = nn.CrossEntropyLoss()\n",
    "lr_finder = LRFinder(model, optimizer, criterion, device=\"cuda\")\n",
    "lr_finder.range_test(train_loader, end_lr=10, num_iter=200, step_mode=\"exp\")\n",
    "lr_finder.plot() # to inspect the loss-learning rate graph\n",
    "lr_finder.reset() # to reset the model and optimizer to their initial state"
   ]
  },
  {
   "cell_type": "code",
   "execution_count": 34,
   "id": "1626a938-9915-4adc-a025-2961bd096d0e",
   "metadata": {
    "colab": {
     "base_uri": "https://localhost:8080/"
    },
    "executionInfo": {
     "elapsed": 827288,
     "status": "ok",
     "timestamp": 1688815783503,
     "user": {
      "displayName": "tulsi kumar gupta",
      "userId": "15097001507503089918"
     },
     "user_tz": -330
    },
    "id": "1626a938-9915-4adc-a025-2961bd096d0e",
    "outputId": "875001ff-dd67-4021-f2ae-92a7d7087de2"
   },
   "outputs": [
    {
     "name": "stdout",
     "output_type": "stream",
     "text": [
      "Epoch 1\n"
     ]
    },
    {
     "name": "stderr",
     "output_type": "stream",
     "text": [
      "Train: Loss=0.8950 Batch_id=97 Accuracy=52.62: 100%|██████████| 98/98 [00:32<00:00,  3.05it/s]\n"
     ]
    },
    {
     "name": "stdout",
     "output_type": "stream",
     "text": [
      "Test set: Average loss: 0.0021, Accuracy: 6415/10000 (64.15%)\n",
      "\n",
      "Epoch 2\n"
     ]
    },
    {
     "name": "stderr",
     "output_type": "stream",
     "text": [
      "Train: Loss=0.6971 Batch_id=97 Accuracy=69.72: 100%|██████████| 98/98 [00:32<00:00,  3.01it/s]\n"
     ]
    },
    {
     "name": "stdout",
     "output_type": "stream",
     "text": [
      "Test set: Average loss: 0.0018, Accuracy: 7106/10000 (71.06%)\n",
      "\n",
      "Epoch 3\n"
     ]
    },
    {
     "name": "stderr",
     "output_type": "stream",
     "text": [
      "Train: Loss=0.7165 Batch_id=97 Accuracy=74.15: 100%|██████████| 98/98 [00:32<00:00,  3.01it/s]\n"
     ]
    },
    {
     "name": "stdout",
     "output_type": "stream",
     "text": [
      "Test set: Average loss: 0.0018, Accuracy: 7111/10000 (71.11%)\n",
      "\n",
      "Epoch 4\n"
     ]
    },
    {
     "name": "stderr",
     "output_type": "stream",
     "text": [
      "Train: Loss=0.6582 Batch_id=97 Accuracy=76.34: 100%|██████████| 98/98 [00:33<00:00,  2.96it/s]\n"
     ]
    },
    {
     "name": "stdout",
     "output_type": "stream",
     "text": [
      "Test set: Average loss: 0.0014, Accuracy: 7711/10000 (77.11%)\n",
      "\n",
      "Epoch 5\n"
     ]
    },
    {
     "name": "stderr",
     "output_type": "stream",
     "text": [
      "Train: Loss=0.5957 Batch_id=97 Accuracy=79.38: 100%|██████████| 98/98 [00:33<00:00,  2.90it/s]\n"
     ]
    },
    {
     "name": "stdout",
     "output_type": "stream",
     "text": [
      "Test set: Average loss: 0.0025, Accuracy: 6201/10000 (62.01%)\n",
      "\n",
      "Epoch 6\n"
     ]
    },
    {
     "name": "stderr",
     "output_type": "stream",
     "text": [
      "Train: Loss=0.5190 Batch_id=97 Accuracy=79.59: 100%|██████████| 98/98 [00:32<00:00,  3.02it/s]\n"
     ]
    },
    {
     "name": "stdout",
     "output_type": "stream",
     "text": [
      "Test set: Average loss: 0.0012, Accuracy: 7993/10000 (79.93%)\n",
      "\n",
      "Epoch 7\n"
     ]
    },
    {
     "name": "stderr",
     "output_type": "stream",
     "text": [
      "Train: Loss=0.5192 Batch_id=97 Accuracy=81.36: 100%|██████████| 98/98 [00:32<00:00,  3.02it/s]\n"
     ]
    },
    {
     "name": "stdout",
     "output_type": "stream",
     "text": [
      "Test set: Average loss: 0.0013, Accuracy: 7889/10000 (78.89%)\n",
      "\n",
      "Epoch 8\n"
     ]
    },
    {
     "name": "stderr",
     "output_type": "stream",
     "text": [
      "Train: Loss=0.5810 Batch_id=97 Accuracy=82.21: 100%|██████████| 98/98 [00:32<00:00,  3.04it/s]\n"
     ]
    },
    {
     "name": "stdout",
     "output_type": "stream",
     "text": [
      "Test set: Average loss: 0.0014, Accuracy: 7801/10000 (78.01%)\n",
      "\n",
      "Epoch 9\n"
     ]
    },
    {
     "name": "stderr",
     "output_type": "stream",
     "text": [
      "Train: Loss=0.4616 Batch_id=97 Accuracy=82.70: 100%|██████████| 98/98 [00:32<00:00,  3.03it/s]\n"
     ]
    },
    {
     "name": "stdout",
     "output_type": "stream",
     "text": [
      "Test set: Average loss: 0.0013, Accuracy: 7834/10000 (78.34%)\n",
      "\n",
      "Epoch 10\n"
     ]
    },
    {
     "name": "stderr",
     "output_type": "stream",
     "text": [
      "Train: Loss=0.4753 Batch_id=97 Accuracy=83.09: 100%|██████████| 98/98 [00:32<00:00,  2.99it/s]\n"
     ]
    },
    {
     "name": "stdout",
     "output_type": "stream",
     "text": [
      "Test set: Average loss: 0.0011, Accuracy: 8067/10000 (80.67%)\n",
      "\n",
      "Epoch 11\n"
     ]
    },
    {
     "name": "stderr",
     "output_type": "stream",
     "text": [
      "Train: Loss=0.3880 Batch_id=97 Accuracy=83.14: 100%|██████████| 98/98 [00:32<00:00,  2.99it/s]\n"
     ]
    },
    {
     "name": "stdout",
     "output_type": "stream",
     "text": [
      "Test set: Average loss: 0.0011, Accuracy: 8150/10000 (81.50%)\n",
      "\n",
      "Epoch 12\n"
     ]
    },
    {
     "name": "stderr",
     "output_type": "stream",
     "text": [
      "Train: Loss=0.4948 Batch_id=97 Accuracy=84.08: 100%|██████████| 98/98 [00:32<00:00,  3.04it/s]\n"
     ]
    },
    {
     "name": "stdout",
     "output_type": "stream",
     "text": [
      "Test set: Average loss: 0.0013, Accuracy: 7716/10000 (77.16%)\n",
      "\n",
      "Epoch 13\n"
     ]
    },
    {
     "name": "stderr",
     "output_type": "stream",
     "text": [
      "Train: Loss=0.4433 Batch_id=97 Accuracy=84.53: 100%|██████████| 98/98 [00:32<00:00,  3.00it/s]\n"
     ]
    },
    {
     "name": "stdout",
     "output_type": "stream",
     "text": [
      "Test set: Average loss: 0.0013, Accuracy: 7911/10000 (79.11%)\n",
      "\n",
      "Epoch 14\n"
     ]
    },
    {
     "name": "stderr",
     "output_type": "stream",
     "text": [
      "Train: Loss=0.4882 Batch_id=97 Accuracy=84.87: 100%|██████████| 98/98 [00:32<00:00,  3.03it/s]\n"
     ]
    },
    {
     "name": "stdout",
     "output_type": "stream",
     "text": [
      "Test set: Average loss: 0.0010, Accuracy: 8271/10000 (82.71%)\n",
      "\n",
      "Epoch 15\n"
     ]
    },
    {
     "name": "stderr",
     "output_type": "stream",
     "text": [
      "Train: Loss=0.5446 Batch_id=97 Accuracy=85.67: 100%|██████████| 98/98 [00:32<00:00,  2.97it/s]\n"
     ]
    },
    {
     "name": "stdout",
     "output_type": "stream",
     "text": [
      "Test set: Average loss: 0.0009, Accuracy: 8534/10000 (85.34%)\n",
      "\n",
      "Epoch 16\n"
     ]
    },
    {
     "name": "stderr",
     "output_type": "stream",
     "text": [
      "Train: Loss=0.3616 Batch_id=97 Accuracy=86.26: 100%|██████████| 98/98 [00:32<00:00,  3.04it/s]\n"
     ]
    },
    {
     "name": "stdout",
     "output_type": "stream",
     "text": [
      "Test set: Average loss: 0.0010, Accuracy: 8363/10000 (83.63%)\n",
      "\n",
      "Epoch 17\n"
     ]
    },
    {
     "name": "stderr",
     "output_type": "stream",
     "text": [
      "Train: Loss=0.3953 Batch_id=97 Accuracy=86.80: 100%|██████████| 98/98 [00:32<00:00,  2.99it/s]\n"
     ]
    },
    {
     "name": "stdout",
     "output_type": "stream",
     "text": [
      "Test set: Average loss: 0.0009, Accuracy: 8408/10000 (84.08%)\n",
      "\n",
      "Epoch 18\n"
     ]
    },
    {
     "name": "stderr",
     "output_type": "stream",
     "text": [
      "Train: Loss=0.4628 Batch_id=97 Accuracy=87.55: 100%|██████████| 98/98 [00:32<00:00,  3.05it/s]\n"
     ]
    },
    {
     "name": "stdout",
     "output_type": "stream",
     "text": [
      "Test set: Average loss: 0.0008, Accuracy: 8659/10000 (86.59%)\n",
      "\n",
      "Epoch 19\n"
     ]
    },
    {
     "name": "stderr",
     "output_type": "stream",
     "text": [
      "Train: Loss=0.3219 Batch_id=97 Accuracy=88.23: 100%|██████████| 98/98 [00:33<00:00,  2.92it/s]\n"
     ]
    },
    {
     "name": "stdout",
     "output_type": "stream",
     "text": [
      "Test set: Average loss: 0.0007, Accuracy: 8739/10000 (87.39%)\n",
      "\n",
      "Epoch 20\n"
     ]
    },
    {
     "name": "stderr",
     "output_type": "stream",
     "text": [
      "Train: Loss=0.3242 Batch_id=97 Accuracy=89.61: 100%|██████████| 98/98 [00:31<00:00,  3.07it/s]\n"
     ]
    },
    {
     "name": "stdout",
     "output_type": "stream",
     "text": [
      "Test set: Average loss: 0.0007, Accuracy: 8737/10000 (87.37%)\n",
      "\n",
      "Epoch 21\n"
     ]
    },
    {
     "name": "stderr",
     "output_type": "stream",
     "text": [
      "Train: Loss=0.3067 Batch_id=97 Accuracy=90.51: 100%|██████████| 98/98 [00:32<00:00,  3.01it/s]\n"
     ]
    },
    {
     "name": "stdout",
     "output_type": "stream",
     "text": [
      "Test set: Average loss: 0.0007, Accuracy: 8810/10000 (88.10%)\n",
      "\n",
      "Epoch 22\n"
     ]
    },
    {
     "name": "stderr",
     "output_type": "stream",
     "text": [
      "Train: Loss=0.1778 Batch_id=97 Accuracy=92.21: 100%|██████████| 98/98 [00:31<00:00,  3.07it/s]\n"
     ]
    },
    {
     "name": "stdout",
     "output_type": "stream",
     "text": [
      "Test set: Average loss: 0.0006, Accuracy: 9010/10000 (90.10%)\n",
      "\n",
      "Epoch 23\n"
     ]
    },
    {
     "name": "stderr",
     "output_type": "stream",
     "text": [
      "Train: Loss=0.1661 Batch_id=97 Accuracy=93.75: 100%|██████████| 98/98 [00:32<00:00,  3.00it/s]\n"
     ]
    },
    {
     "name": "stdout",
     "output_type": "stream",
     "text": [
      "Test set: Average loss: 0.0005, Accuracy: 9165/10000 (91.65%)\n",
      "\n",
      "Epoch 24\n"
     ]
    },
    {
     "name": "stderr",
     "output_type": "stream",
     "text": [
      "Train: Loss=0.1682 Batch_id=97 Accuracy=95.24: 100%|██████████| 98/98 [00:32<00:00,  3.04it/s]\n"
     ]
    },
    {
     "name": "stdout",
     "output_type": "stream",
     "text": [
      "Test set: Average loss: 0.0005, Accuracy: 9253/10000 (92.53%)\n",
      "\n"
     ]
    }
   ],
   "source": [
    "from torch.optim.lr_scheduler import OneCycleLR\n",
    "\n",
    "model =  MyResNet().to(device)\n",
    "optimizer = optim.Adam(model.parameters(), lr=0.01, weight_decay=1e-4)\n",
    "EPOCHS = 24\n",
    "scheduler = OneCycleLR(\n",
    "        optimizer,\n",
    "        max_lr = 3.04E-02, #1.74E-02,\n",
    "        steps_per_epoch=len(train_loader),\n",
    "        epochs=EPOCHS,\n",
    "        pct_start=5/EPOCHS,\n",
    "        div_factor=100,\n",
    "        three_phase=False,\n",
    "        final_div_factor=100,\n",
    "        anneal_strategy='linear'\n",
    "    )\n",
    "\n",
    "criterion = nn.CrossEntropyLoss()\n",
    "train_losses = []\n",
    "test_losses = []\n",
    "train_acc = []\n",
    "test_acc = []\n",
    "\n",
    "for epoch in range(1, EPOCHS+1):\n",
    "    print(f'Epoch {epoch}')\n",
    "    train_losses, train_acc = train(model, device, train_loader, optimizer, criterion, scheduler, train_losses, train_acc)\n",
    "    test_losses, test_acc = test(model, device, test_loader, criterion, test_losses, test_acc)\n"
   ]
  },
  {
   "cell_type": "code",
   "execution_count": null,
   "id": "cTgBjbdGL-Xf",
   "metadata": {
    "id": "cTgBjbdGL-Xf"
   },
   "outputs": [],
   "source": []
  }
 ],
 "metadata": {
  "accelerator": "GPU",
  "colab": {
   "gpuType": "T4",
   "provenance": []
  },
  "kernelspec": {
   "display_name": "Python 3",
   "language": "python",
   "name": "python3"
  },
  "language_info": {
   "codemirror_mode": {
    "name": "ipython",
    "version": 3
   },
   "file_extension": ".py",
   "mimetype": "text/x-python",
   "name": "python",
   "nbconvert_exporter": "python",
   "pygments_lexer": "ipython3",
   "version": "3.6.9"
  },
  "widgets": {
   "application/vnd.jupyter.widget-state+json": {
    "state": {},
    "version_major": 2,
    "version_minor": 0
   }
  }
 },
 "nbformat": 4,
 "nbformat_minor": 5
}
