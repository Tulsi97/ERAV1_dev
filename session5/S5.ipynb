{
 "cells": [
  {
   "cell_type": "code",
   "execution_count": null,
   "id": "1bcc67be-5bd8-40c6-8a09-b96980e67509",
   "metadata": {},
   "outputs": [],
   "source": [
    "import torch\n",
    "import torch.nn.functional as F\n",
    "import torch.optim as optim\n",
    "from torchvision import datasets, transforms\n",
    "from torchsummary import summary\n",
    "import matplotlib.pyplot as plt\n",
    "from model import Net\n",
    "from utils import GetMNISTDataLoaders, TrainTestModel"
   ]
  },
  {
   "cell_type": "code",
   "execution_count": null,
   "id": "3afd634f-2cfc-4841-a4f4-0c0b1549c141",
   "metadata": {},
   "outputs": [],
   "source": [
    "cuda = torch.cuda.is_available()\n",
    "device = torch.device('cuda' if cuda else 'cpu')\n",
    "print(\"device is : \", device)"
   ]
  },
  {
   "cell_type": "code",
   "execution_count": null,
   "id": "efe20878-fc2c-4510-98c8-090334fcfaeb",
   "metadata": {},
   "outputs": [],
   "source": [
    "# Train data transformations\n",
    "train_transforms = transforms.Compose([\n",
    "    transforms.RandomApply([transforms.CenterCrop(22), ], p=0.1),\n",
    "    transforms.Resize((28, 28)),\n",
    "    transforms.RandomRotation((-15., 15.), fill=0),\n",
    "    transforms.ToTensor(),\n",
    "    transforms.Normalize((0.1307,), (0.3081,)),\n",
    "    ])\n",
    "\n",
    "# Test data transformations\n",
    "test_transforms = transforms.Compose([\n",
    "    transforms.ToTensor(),\n",
    "    transforms.Normalize((0.1307,), (0.3081,))\n",
    "    ])\n"
   ]
  },
  {
   "cell_type": "code",
   "execution_count": null,
   "id": "7c9c5103",
   "metadata": {},
   "outputs": [],
   "source": [
    "train_loader, test_loader = GetMNISTDataLoaders(train_transforms, test_transforms, batch_size=512, num_workers=2, pin_memory=True)"
   ]
  },
  {
   "cell_type": "code",
   "execution_count": null,
   "id": "b5ab478e",
   "metadata": {},
   "outputs": [],
   "source": [
    "batch_data, batch_label = next(iter(train_loader)) \n",
    "\n",
    "fig = plt.figure()\n",
    "\n",
    "for i in range(12):\n",
    "    plt.subplot(3,4,i+1)\n",
    "    plt.tight_layout()\n",
    "    plt.imshow(batch_data[i].squeeze(0), cmap='gray')\n",
    "    plt.title(batch_label[i].item())\n",
    "    plt.xticks([])\n",
    "    plt.yticks([])"
   ]
  },
  {
   "cell_type": "code",
   "execution_count": null,
   "id": "b479a18f-7b37-4de1-9505-0feab9a7d31b",
   "metadata": {},
   "outputs": [],
   "source": [
    "model = Net().to(device)\n",
    "model"
   ]
  },
  {
   "cell_type": "code",
   "execution_count": null,
   "id": "c51e961f",
   "metadata": {},
   "outputs": [],
   "source": [
    "summary(model, input_size=(1, 28, 28))"
   ]
  },
  {
   "cell_type": "code",
   "execution_count": null,
   "id": "5a8323e9-41bb-4d68-bf5d-935db42e8025",
   "metadata": {
    "collapsed": true,
    "jupyter": {
     "outputs_hidden": true
    },
    "tags": []
   },
   "outputs": [],
   "source": [
    "optimizer = optim.SGD(model.parameters(), lr=0.01, momentum=0.9)\n",
    "scheduler = optim.lr_scheduler.StepLR(optimizer, step_size=15, gamma=0.1)\n",
    "num_epochs = 20\n",
    "criterion = F.nll_loss\n",
    "\n",
    "train_losses, train_acc, test_losses, test_acc = TrainTestModel(model, criterion, optimizer, scheduler, train_loader, test_loader, num_epochs, device)"
   ]
  },
  {
   "cell_type": "code",
   "execution_count": null,
   "id": "f6034388-3b42-48a0-860f-84e3a9678276",
   "metadata": {},
   "outputs": [],
   "source": [
    "fig, axs = plt.subplots(2,2,figsize=(15,10))\n",
    "axs[0, 0].plot(train_losses)\n",
    "axs[0, 0].set_title(\"Training Loss\")\n",
    "axs[1, 0].plot(train_acc)\n",
    "axs[1, 0].set_title(\"Training Accuracy\")\n",
    "axs[0, 1].plot(test_losses)\n",
    "axs[0, 1].set_title(\"Test Loss\")\n",
    "axs[1, 1].plot(test_acc)\n",
    "axs[1, 1].set_title(\"Test Accuracy\")"
   ]
  },
  {
   "cell_type": "code",
   "execution_count": null,
   "id": "f2897e85",
   "metadata": {},
   "outputs": [],
   "source": []
  }
 ],
 "metadata": {
  "kernelspec": {
   "display_name": "erav",
   "language": "python",
   "name": "erav"
  },
  "language_info": {
   "codemirror_mode": {
    "name": "ipython",
    "version": 3
   },
   "file_extension": ".py",
   "mimetype": "text/x-python",
   "name": "python",
   "nbconvert_exporter": "python",
   "pygments_lexer": "ipython3",
   "version": "3.6.9"
  },
  "widgets": {
   "application/vnd.jupyter.widget-state+json": {
    "state": {
     "01e5f37d8c7b4e1fb8780aa511b31971": {
      "model_module": "@jupyter-widgets/controls",
      "model_module_version": "1.5.0",
      "model_name": "HTMLModel",
      "state": {
       "layout": "IPY_MODEL_f988d5bd6a5a4ac3bd759a07d6405403",
       "style": "IPY_MODEL_1abb1a9411e1463789b89e11243e2929"
      }
     },
     "04d0ba5849f74cd9aef92dca9a1d75bc": {
      "model_module": "@jupyter-widgets/controls",
      "model_module_version": "1.5.0",
      "model_name": "HBoxModel",
      "state": {
       "children": [
        "IPY_MODEL_bd6a476627844f739d32d7235cbe53b5",
        "IPY_MODEL_7251dd7c2a7c45bb9191ea27ed74b9f6",
        "IPY_MODEL_2d6978bce96f442194e486ad740dcd7c"
       ],
       "layout": "IPY_MODEL_6423ec79ad4a4571a6ad717517615159"
      }
     },
     "08d1b45c9b224891926f5238ffcf0751": {
      "model_module": "@jupyter-widgets/base",
      "model_module_version": "1.2.0",
      "model_name": "LayoutModel",
      "state": {}
     },
     "0d1d662eee544624862a279c47cca789": {
      "model_module": "@jupyter-widgets/base",
      "model_module_version": "1.2.0",
      "model_name": "LayoutModel",
      "state": {}
     },
     "11ae504ead804150a42856f7538c2de5": {
      "model_module": "@jupyter-widgets/controls",
      "model_module_version": "1.5.0",
      "model_name": "FloatProgressModel",
      "state": {
       "bar_style": "success",
       "layout": "IPY_MODEL_3cbe451146f3443888d3e77094a48347",
       "max": 1,
       "style": "IPY_MODEL_6866cad3d1b041df9107f2fafa3b7301",
       "value": 1
      }
     },
     "1abb1a9411e1463789b89e11243e2929": {
      "model_module": "@jupyter-widgets/controls",
      "model_module_version": "1.5.0",
      "model_name": "DescriptionStyleModel",
      "state": {
       "description_width": ""
      }
     },
     "1e319dde0965434aa5b8e8cff068aab2": {
      "model_module": "@jupyter-widgets/base",
      "model_module_version": "1.2.0",
      "model_name": "LayoutModel",
      "state": {
       "width": "20px"
      }
     },
     "23d828298c544511a411a7c3a88e70ea": {
      "model_module": "@jupyter-widgets/controls",
      "model_module_version": "1.5.0",
      "model_name": "ProgressStyleModel",
      "state": {
       "description_width": ""
      }
     },
     "2d6978bce96f442194e486ad740dcd7c": {
      "model_module": "@jupyter-widgets/controls",
      "model_module_version": "1.5.0",
      "model_name": "HTMLModel",
      "state": {
       "layout": "IPY_MODEL_f935b83a92e94b1eb52bc05d1a9c6544",
       "style": "IPY_MODEL_f5673b4540984a1b9583205b220da1da",
       "value": " 9920512/? [46:58&lt;00:00, 2036728.67it/s]"
      }
     },
     "3b9f4400d74945638d5f68b44f4478c2": {
      "model_module": "@jupyter-widgets/base",
      "model_module_version": "1.2.0",
      "model_name": "LayoutModel",
      "state": {}
     },
     "3cbe451146f3443888d3e77094a48347": {
      "model_module": "@jupyter-widgets/base",
      "model_module_version": "1.2.0",
      "model_name": "LayoutModel",
      "state": {
       "width": "20px"
      }
     },
     "3d7e179a70894ed49a8469ce52093d40": {
      "model_module": "@jupyter-widgets/controls",
      "model_module_version": "1.5.0",
      "model_name": "ProgressStyleModel",
      "state": {
       "description_width": ""
      }
     },
     "513498c6a3c645ed836e4b626c48d526": {
      "model_module": "@jupyter-widgets/base",
      "model_module_version": "1.2.0",
      "model_name": "LayoutModel",
      "state": {}
     },
     "54e8126cba2f4a2ba47a50a940eeed61": {
      "model_module": "@jupyter-widgets/controls",
      "model_module_version": "1.5.0",
      "model_name": "DescriptionStyleModel",
      "state": {
       "description_width": ""
      }
     },
     "56e19b1f67514312b59cb87952d22bd9": {
      "model_module": "@jupyter-widgets/controls",
      "model_module_version": "1.5.0",
      "model_name": "DescriptionStyleModel",
      "state": {
       "description_width": ""
      }
     },
     "60e20090963a47b792030db6fa12b577": {
      "model_module": "@jupyter-widgets/controls",
      "model_module_version": "1.5.0",
      "model_name": "HBoxModel",
      "state": {
       "children": [
        "IPY_MODEL_01e5f37d8c7b4e1fb8780aa511b31971",
        "IPY_MODEL_db1daa3255254646bd55366f208ff226",
        "IPY_MODEL_a27f1656bf5946fd8eedc00ee617e3be"
       ],
       "layout": "IPY_MODEL_0d1d662eee544624862a279c47cca789"
      }
     },
     "6423ec79ad4a4571a6ad717517615159": {
      "model_module": "@jupyter-widgets/base",
      "model_module_version": "1.2.0",
      "model_name": "LayoutModel",
      "state": {}
     },
     "65276a6a85254209a9ffec3b7804d746": {
      "model_module": "@jupyter-widgets/controls",
      "model_module_version": "1.5.0",
      "model_name": "HBoxModel",
      "state": {
       "children": [
        "IPY_MODEL_87ad6f2bd54340e8b6a779d3ff036336",
        "IPY_MODEL_6655d4c086474a6493b71e0f5bcf938d",
        "IPY_MODEL_915e14cd2b8648ac9b2a39f2ce3fcf11"
       ],
       "layout": "IPY_MODEL_e03683934fb249e7bb700dfb9568bf2b"
      }
     },
     "6655d4c086474a6493b71e0f5bcf938d": {
      "model_module": "@jupyter-widgets/controls",
      "model_module_version": "1.5.0",
      "model_name": "FloatProgressModel",
      "state": {
       "bar_style": "success",
       "layout": "IPY_MODEL_1e319dde0965434aa5b8e8cff068aab2",
       "max": 1,
       "style": "IPY_MODEL_23d828298c544511a411a7c3a88e70ea",
       "value": 1
      }
     },
     "6866cad3d1b041df9107f2fafa3b7301": {
      "model_module": "@jupyter-widgets/controls",
      "model_module_version": "1.5.0",
      "model_name": "ProgressStyleModel",
      "state": {
       "description_width": ""
      }
     },
     "6f9c1426e2014753b9b016905658e154": {
      "model_module": "@jupyter-widgets/controls",
      "model_module_version": "1.5.0",
      "model_name": "DescriptionStyleModel",
      "state": {
       "description_width": ""
      }
     },
     "7251dd7c2a7c45bb9191ea27ed74b9f6": {
      "model_module": "@jupyter-widgets/controls",
      "model_module_version": "1.5.0",
      "model_name": "FloatProgressModel",
      "state": {
       "bar_style": "success",
       "layout": "IPY_MODEL_9eb02e2e8d4a48ed8757d09672015ff2",
       "max": 1,
       "style": "IPY_MODEL_b7fc2bd0676d42b18a28e46b4cdee7cf",
       "value": 1
      }
     },
     "778b62cddde24bbab8a4257be524be4c": {
      "model_module": "@jupyter-widgets/base",
      "model_module_version": "1.2.0",
      "model_name": "LayoutModel",
      "state": {}
     },
     "87ad6f2bd54340e8b6a779d3ff036336": {
      "model_module": "@jupyter-widgets/controls",
      "model_module_version": "1.5.0",
      "model_name": "HTMLModel",
      "state": {
       "layout": "IPY_MODEL_513498c6a3c645ed836e4b626c48d526",
       "style": "IPY_MODEL_b8b4ae44367845f89e95d374dde202fd"
      }
     },
     "8c36784a514a476a9cf527d7669e9fb8": {
      "model_module": "@jupyter-widgets/controls",
      "model_module_version": "1.5.0",
      "model_name": "DescriptionStyleModel",
      "state": {
       "description_width": ""
      }
     },
     "8fcca5e7c26e414cbc22805bb6d9b3be": {
      "model_module": "@jupyter-widgets/base",
      "model_module_version": "1.2.0",
      "model_name": "LayoutModel",
      "state": {}
     },
     "90d57b546dae4f3abe78f5f07ecccaef": {
      "model_module": "@jupyter-widgets/controls",
      "model_module_version": "1.5.0",
      "model_name": "HTMLModel",
      "state": {
       "layout": "IPY_MODEL_8fcca5e7c26e414cbc22805bb6d9b3be",
       "style": "IPY_MODEL_54e8126cba2f4a2ba47a50a940eeed61",
       "value": " 1654784/? [46:51&lt;00:00, 2168859.68it/s]"
      }
     },
     "915e14cd2b8648ac9b2a39f2ce3fcf11": {
      "model_module": "@jupyter-widgets/controls",
      "model_module_version": "1.5.0",
      "model_name": "HTMLModel",
      "state": {
       "layout": "IPY_MODEL_3b9f4400d74945638d5f68b44f4478c2",
       "style": "IPY_MODEL_93c4f15f2dfb4911bc5806e22abe5827",
       "value": " 32768/? [00:01&lt;00:00, 17684.29it/s]"
      }
     },
     "93c4f15f2dfb4911bc5806e22abe5827": {
      "model_module": "@jupyter-widgets/controls",
      "model_module_version": "1.5.0",
      "model_name": "DescriptionStyleModel",
      "state": {
       "description_width": ""
      }
     },
     "9eb02e2e8d4a48ed8757d09672015ff2": {
      "model_module": "@jupyter-widgets/base",
      "model_module_version": "1.2.0",
      "model_name": "LayoutModel",
      "state": {
       "width": "20px"
      }
     },
     "a27f1656bf5946fd8eedc00ee617e3be": {
      "model_module": "@jupyter-widgets/controls",
      "model_module_version": "1.5.0",
      "model_name": "HTMLModel",
      "state": {
       "layout": "IPY_MODEL_dfe4cda215cb42c6a6ee0b122aa6e8ea",
       "style": "IPY_MODEL_6f9c1426e2014753b9b016905658e154",
       "value": " 8192/? [01:13&lt;00:00, 111.83it/s]"
      }
     },
     "b3eb3b23549e4f79b470596969f7e783": {
      "model_module": "@jupyter-widgets/base",
      "model_module_version": "1.2.0",
      "model_name": "LayoutModel",
      "state": {}
     },
     "b70fa9308f9d4660b989697f0eb956a0": {
      "model_module": "@jupyter-widgets/controls",
      "model_module_version": "1.5.0",
      "model_name": "HBoxModel",
      "state": {
       "children": [
        "IPY_MODEL_e0a176c60215486ea9497599e6217aa1",
        "IPY_MODEL_11ae504ead804150a42856f7538c2de5",
        "IPY_MODEL_90d57b546dae4f3abe78f5f07ecccaef"
       ],
       "layout": "IPY_MODEL_778b62cddde24bbab8a4257be524be4c"
      }
     },
     "b7fc2bd0676d42b18a28e46b4cdee7cf": {
      "model_module": "@jupyter-widgets/controls",
      "model_module_version": "1.5.0",
      "model_name": "ProgressStyleModel",
      "state": {
       "description_width": ""
      }
     },
     "b8b4ae44367845f89e95d374dde202fd": {
      "model_module": "@jupyter-widgets/controls",
      "model_module_version": "1.5.0",
      "model_name": "DescriptionStyleModel",
      "state": {
       "description_width": ""
      }
     },
     "bd6a476627844f739d32d7235cbe53b5": {
      "model_module": "@jupyter-widgets/controls",
      "model_module_version": "1.5.0",
      "model_name": "HTMLModel",
      "state": {
       "layout": "IPY_MODEL_08d1b45c9b224891926f5238ffcf0751",
       "style": "IPY_MODEL_8c36784a514a476a9cf527d7669e9fb8"
      }
     },
     "d05992143b244e289c765a69ba50d6c4": {
      "model_module": "@jupyter-widgets/base",
      "model_module_version": "1.2.0",
      "model_name": "LayoutModel",
      "state": {
       "width": "20px"
      }
     },
     "db1daa3255254646bd55366f208ff226": {
      "model_module": "@jupyter-widgets/controls",
      "model_module_version": "1.5.0",
      "model_name": "FloatProgressModel",
      "state": {
       "bar_style": "success",
       "layout": "IPY_MODEL_d05992143b244e289c765a69ba50d6c4",
       "max": 1,
       "style": "IPY_MODEL_3d7e179a70894ed49a8469ce52093d40",
       "value": 1
      }
     },
     "dfe4cda215cb42c6a6ee0b122aa6e8ea": {
      "model_module": "@jupyter-widgets/base",
      "model_module_version": "1.2.0",
      "model_name": "LayoutModel",
      "state": {}
     },
     "e03683934fb249e7bb700dfb9568bf2b": {
      "model_module": "@jupyter-widgets/base",
      "model_module_version": "1.2.0",
      "model_name": "LayoutModel",
      "state": {}
     },
     "e0a176c60215486ea9497599e6217aa1": {
      "model_module": "@jupyter-widgets/controls",
      "model_module_version": "1.5.0",
      "model_name": "HTMLModel",
      "state": {
       "layout": "IPY_MODEL_b3eb3b23549e4f79b470596969f7e783",
       "style": "IPY_MODEL_56e19b1f67514312b59cb87952d22bd9"
      }
     },
     "f5673b4540984a1b9583205b220da1da": {
      "model_module": "@jupyter-widgets/controls",
      "model_module_version": "1.5.0",
      "model_name": "DescriptionStyleModel",
      "state": {
       "description_width": ""
      }
     },
     "f935b83a92e94b1eb52bc05d1a9c6544": {
      "model_module": "@jupyter-widgets/base",
      "model_module_version": "1.2.0",
      "model_name": "LayoutModel",
      "state": {}
     },
     "f988d5bd6a5a4ac3bd759a07d6405403": {
      "model_module": "@jupyter-widgets/base",
      "model_module_version": "1.2.0",
      "model_name": "LayoutModel",
      "state": {}
     }
    },
    "version_major": 2,
    "version_minor": 0
   }
  }
 },
 "nbformat": 4,
 "nbformat_minor": 5
}
