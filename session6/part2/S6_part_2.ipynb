{
  "nbformat": 4,
  "nbformat_minor": 0,
  "metadata": {
    "colab": {
      "provenance": [],
      "gpuType": "T4"
    },
    "kernelspec": {
      "name": "python3",
      "display_name": "Python 3"
    },
    "language_info": {
      "name": "python"
    },
    "accelerator": "GPU"
  },
  "cells": [
    {
      "cell_type": "code",
      "execution_count": null,
      "metadata": {
        "id": "y8QRolukVkiK"
      },
      "outputs": [],
      "source": [
        "from __future__ import print_function\n",
        "import torch\n",
        "import torch.nn as nn\n",
        "import torch.nn.functional as F\n",
        "import torch.optim as optim\n",
        "from torchvision import datasets, transforms\n",
        "import matplotlib.pyplot as plt"
      ]
    },
    {
      "cell_type": "code",
      "source": [
        "dropout_value = 0.005\n",
        "class Net(nn.Module):\n",
        "    def __init__(self):\n",
        "        super(Net, self).__init__()\n",
        "        self.conv1 = nn.Conv2d(1, 8, 3) \n",
        "        self.bn1 = nn.BatchNorm2d(8)\n",
        "        self.conv2 = nn.Conv2d(8, 12, 3) \n",
        "        self.bn2 = nn.BatchNorm2d(12)\n",
        "        self.conv3 = nn.Conv2d(12, 16, 3)\n",
        "        self.bn3 = nn.BatchNorm2d(16)\n",
        "        self.pool = nn.MaxPool2d(2, 2)\n",
        "        self.conv4 = nn.Conv2d(16, 8, 1)\n",
        "        self.bn4 = nn.BatchNorm2d(8)\n",
        "        self.conv5 = nn.Conv2d(8, 12, 3)\n",
        "        self.bn5 = nn.BatchNorm2d(12)\n",
        "        self.conv6 = nn.Conv2d(12,16,3)\n",
        "        self.bn6 = nn.BatchNorm2d(16)\n",
        "        self.conv7 = nn.Conv2d(16,16,3)\n",
        "        self.bn7 = nn.BatchNorm2d(16)\n",
        "        self.conv8 = nn.Conv2d(16,16,3)\n",
        "        self.bn8 = nn.BatchNorm2d(16)\n",
        "        self.conv9 = nn.Conv2d(16,10,1)\n",
        "        self.avg = nn.AvgPool2d(3)\n",
        "        self.dropout = nn.Dropout(dropout_value)\n",
        "\n",
        "    def forward(self, x):\n",
        "        x = self.dropout(self.bn1(F.relu(self.conv1(x))))#28 - 26 - 3\n",
        "        x = self.dropout(self.bn2(F.relu(self.conv2(x))))#26 - 24 - 5\n",
        "        x = self.dropout(self.bn3(F.relu(self.conv3(x))))#24 - 22 - 7\n",
        "        x = self.pool(x)#22 - 11 - 8\n",
        "        x = self.dropout(self.bn4(F.relu(self.conv4(x))))#11 - 11 - 8\n",
        "        x = self.dropout(self.bn5(F.relu(self.conv5(x))))#11 - 9 - 12\n",
        "        x = self.dropout(self.bn6(F.relu(self.conv6(x))))#9 - 7 - 16\n",
        "        x = self.dropout(self.bn7(F.relu(self.conv7(x))))#7 - 5 - 20\n",
        "        x = self.dropout(self.bn8(F.relu(self.conv8(x))))#5 - 3 - 24\n",
        "        x = F.relu(self.conv9(x))#3 - 3 - 24\n",
        "        x = self.avg(x)\n",
        "        x = x.view(-1, 10)\n",
        "        return F.log_softmax(x, dim=1)"
      ],
      "metadata": {
        "id": "uproBnMuVncI"
      },
      "execution_count": null,
      "outputs": []
    },
    {
      "cell_type": "code",
      "source": [
        "# !pip install torchsummary\n",
        "from torchsummary import summary\n",
        "use_cuda = torch.cuda.is_available()\n",
        "device = torch.device(\"cuda\" if use_cuda else \"cpu\")\n",
        "model = Net().to(device)\n",
        "summary(model, input_size=(1, 28, 28))"
      ],
      "metadata": {
        "colab": {
          "base_uri": "https://localhost:8080/"
        },
        "id": "dtc61ASzVpeg",
        "outputId": "09b9a313-3529-47e3-f718-d06c6ecdc4ff"
      },
      "execution_count": null,
      "outputs": [
        {
          "output_type": "stream",
          "name": "stdout",
          "text": [
            "----------------------------------------------------------------\n",
            "        Layer (type)               Output Shape         Param #\n",
            "================================================================\n",
            "            Conv2d-1            [-1, 8, 26, 26]              80\n",
            "       BatchNorm2d-2            [-1, 8, 26, 26]              16\n",
            "           Dropout-3            [-1, 8, 26, 26]               0\n",
            "            Conv2d-4           [-1, 12, 24, 24]             876\n",
            "       BatchNorm2d-5           [-1, 12, 24, 24]              24\n",
            "           Dropout-6           [-1, 12, 24, 24]               0\n",
            "            Conv2d-7           [-1, 16, 22, 22]           1,744\n",
            "       BatchNorm2d-8           [-1, 16, 22, 22]              32\n",
            "           Dropout-9           [-1, 16, 22, 22]               0\n",
            "        MaxPool2d-10           [-1, 16, 11, 11]               0\n",
            "           Conv2d-11            [-1, 8, 11, 11]             136\n",
            "      BatchNorm2d-12            [-1, 8, 11, 11]              16\n",
            "          Dropout-13            [-1, 8, 11, 11]               0\n",
            "           Conv2d-14             [-1, 12, 9, 9]             876\n",
            "      BatchNorm2d-15             [-1, 12, 9, 9]              24\n",
            "          Dropout-16             [-1, 12, 9, 9]               0\n",
            "           Conv2d-17             [-1, 16, 7, 7]           1,744\n",
            "      BatchNorm2d-18             [-1, 16, 7, 7]              32\n",
            "          Dropout-19             [-1, 16, 7, 7]               0\n",
            "           Conv2d-20             [-1, 16, 5, 5]           2,320\n",
            "      BatchNorm2d-21             [-1, 16, 5, 5]              32\n",
            "          Dropout-22             [-1, 16, 5, 5]               0\n",
            "           Conv2d-23             [-1, 16, 3, 3]           2,320\n",
            "      BatchNorm2d-24             [-1, 16, 3, 3]              32\n",
            "          Dropout-25             [-1, 16, 3, 3]               0\n",
            "           Conv2d-26             [-1, 10, 3, 3]             170\n",
            "        AvgPool2d-27             [-1, 10, 1, 1]               0\n",
            "================================================================\n",
            "Total params: 10,474\n",
            "Trainable params: 10,474\n",
            "Non-trainable params: 0\n",
            "----------------------------------------------------------------\n",
            "Input size (MB): 0.00\n",
            "Forward/backward pass size (MB): 0.55\n",
            "Params size (MB): 0.04\n",
            "Estimated Total Size (MB): 0.59\n",
            "----------------------------------------------------------------\n"
          ]
        }
      ]
    },
    {
      "cell_type": "code",
      "source": [
        "torch.manual_seed(1)\n",
        "batch_size = 512\n",
        "\n",
        "kwargs = {'num_workers': 1, 'pin_memory': True} if use_cuda else {}\n",
        "train_loader = torch.utils.data.DataLoader(\n",
        "    datasets.MNIST('../data', train=True, download=True,\n",
        "                    transform=transforms.Compose([\n",
        "                                transforms.RandomApply([transforms.CenterCrop(22), ], p=0.1),\n",
        "                                transforms.Resize((28, 28)),\n",
        "                                transforms.RandomRotation((-15., 15.), fill=0),\n",
        "                                transforms.ToTensor(),\n",
        "                                transforms.Normalize((0.1307,), (0.3081,)),\n",
        "                                ])),\n",
        "    batch_size=batch_size, shuffle=True, **kwargs)\n",
        "test_loader = torch.utils.data.DataLoader(\n",
        "    datasets.MNIST('../data', train=False, transform=transforms.Compose([\n",
        "                        transforms.ToTensor(),\n",
        "                        transforms.Normalize((0.1307,), (0.3081,))\n",
        "                    ])),\n",
        "    batch_size=batch_size, shuffle=True, **kwargs)\n"
      ],
      "metadata": {
        "id": "REmuaDJvVrVX"
      },
      "execution_count": null,
      "outputs": []
    },
    {
      "cell_type": "code",
      "source": [
        "# Data to plot accuracy and loss graphs\n",
        "train_losses = []\n",
        "test_losses = []\n",
        "train_acc = []\n",
        "test_acc = []\n",
        "\n",
        "test_incorrect_pred = {'images': [], 'ground_truths': [], 'predicted_vals': []}"
      ],
      "metadata": {
        "id": "4uH2pD2XVtH5"
      },
      "execution_count": null,
      "outputs": []
    },
    {
      "cell_type": "code",
      "source": [
        "\n",
        "from tqdm import tqdm\n",
        "\n",
        "def GetCorrectPredCount(pPrediction, pLabels):\n",
        "  return pPrediction.argmax(dim=1).eq(pLabels).sum().item()\n",
        "\n",
        "def train(model, device, train_loader, optimizer, criterion):\n",
        "  model.train()\n",
        "  pbar = tqdm(train_loader)\n",
        "\n",
        "  train_loss = 0\n",
        "  correct = 0\n",
        "  processed = 0\n",
        "\n",
        "  for batch_idx, (data, target) in enumerate(pbar):\n",
        "    data, target = data.to(device), target.to(device)\n",
        "    optimizer.zero_grad()\n",
        "\n",
        "    # Predict\n",
        "    pred = model(data)\n",
        "\n",
        "    # Calculate loss\n",
        "    loss = criterion(pred, target)\n",
        "    train_loss+=loss.item()\n",
        "\n",
        "    # Backpropagation\n",
        "    loss.backward()\n",
        "    optimizer.step()\n",
        "    \n",
        "    correct += GetCorrectPredCount(pred, target)\n",
        "    processed += len(data)\n",
        "\n",
        "    pbar.set_description(desc= f'Train: Loss={loss.item():0.4f} Batch_id={batch_idx} Accuracy={100*correct/processed:0.2f}')\n",
        "\n",
        "  train_acc.append(100*correct/processed)\n",
        "  train_losses.append(train_loss/len(train_loader))\n",
        "\n",
        "def test(model, device, test_loader, criterion):\n",
        "    model.eval()\n",
        "\n",
        "    test_loss = 0\n",
        "    correct = 0\n",
        "\n",
        "    with torch.no_grad():\n",
        "        for batch_idx, (data, target) in enumerate(test_loader):\n",
        "            data, target = data.to(device), target.to(device)\n",
        "\n",
        "            output = model(data)\n",
        "            test_loss += criterion(output, target, reduction='sum').item()  # sum up batch loss\n",
        "\n",
        "            correct += GetCorrectPredCount(output, target)\n",
        "\n",
        "\n",
        "    test_loss /= len(test_loader.dataset)\n",
        "    test_acc.append(100. * correct / len(test_loader.dataset))\n",
        "    test_losses.append(test_loss)\n",
        "\n",
        "    print('Test set: Average loss: {:.4f}, Accuracy: {}/{} ({:.2f}%)\\n'.format(\n",
        "        test_loss, correct, len(test_loader.dataset),\n",
        "        100. * correct / len(test_loader.dataset)))\n",
        "     "
      ],
      "metadata": {
        "id": "to8Cw7otVuxZ"
      },
      "execution_count": null,
      "outputs": []
    },
    {
      "cell_type": "code",
      "source": [
        "model = Net().to(device)\n",
        "optimizer = optim.SGD(model.parameters(), lr=0.01, momentum=0.9)\n",
        "scheduler = optim.lr_scheduler.StepLR(optimizer, step_size=15, gamma=0.1, verbose=True)\n",
        "# New Line\n",
        "criterion = F.nll_loss\n",
        "num_epochs = 20\n",
        "\n",
        "for epoch in range(1, num_epochs+1):\n",
        "  print(f'Epoch {epoch}')\n",
        "  train(model, device, train_loader, optimizer, criterion)\n",
        "  test(model, device, test_loader, criterion)\n",
        "  scheduler.step()"
      ],
      "metadata": {
        "colab": {
          "base_uri": "https://localhost:8080/"
        },
        "id": "3YISTqBpVwcE",
        "outputId": "3dda5cd9-c276-4707-ccd1-3e93f54979b6"
      },
      "execution_count": null,
      "outputs": [
        {
          "output_type": "stream",
          "name": "stdout",
          "text": [
            "Adjusting learning rate of group 0 to 1.0000e-02.\n",
            "Epoch 1\n"
          ]
        },
        {
          "output_type": "stream",
          "name": "stderr",
          "text": [
            "Train: Loss=0.3774 Batch_id=117 Accuracy=71.79: 100%|██████████| 118/118 [00:30<00:00,  3.81it/s]\n"
          ]
        },
        {
          "output_type": "stream",
          "name": "stdout",
          "text": [
            "Test set: Average loss: 0.1960, Accuracy: 9686/10000 (96.86%)\n",
            "\n",
            "Adjusting learning rate of group 0 to 1.0000e-02.\n",
            "Epoch 2\n"
          ]
        },
        {
          "output_type": "stream",
          "name": "stderr",
          "text": [
            "Train: Loss=0.1188 Batch_id=117 Accuracy=96.16: 100%|██████████| 118/118 [00:26<00:00,  4.45it/s]\n"
          ]
        },
        {
          "output_type": "stream",
          "name": "stdout",
          "text": [
            "Test set: Average loss: 0.0841, Accuracy: 9796/10000 (97.96%)\n",
            "\n",
            "Adjusting learning rate of group 0 to 1.0000e-02.\n",
            "Epoch 3\n"
          ]
        },
        {
          "output_type": "stream",
          "name": "stderr",
          "text": [
            "Train: Loss=0.1049 Batch_id=117 Accuracy=97.49: 100%|██████████| 118/118 [00:27<00:00,  4.30it/s]\n"
          ]
        },
        {
          "output_type": "stream",
          "name": "stdout",
          "text": [
            "Test set: Average loss: 0.0562, Accuracy: 9861/10000 (98.61%)\n",
            "\n",
            "Adjusting learning rate of group 0 to 1.0000e-02.\n",
            "Epoch 4\n"
          ]
        },
        {
          "output_type": "stream",
          "name": "stderr",
          "text": [
            "Train: Loss=0.1825 Batch_id=117 Accuracy=97.86: 100%|██████████| 118/118 [00:26<00:00,  4.38it/s]\n"
          ]
        },
        {
          "output_type": "stream",
          "name": "stdout",
          "text": [
            "Test set: Average loss: 0.0491, Accuracy: 9870/10000 (98.70%)\n",
            "\n",
            "Adjusting learning rate of group 0 to 1.0000e-02.\n",
            "Epoch 5\n"
          ]
        },
        {
          "output_type": "stream",
          "name": "stderr",
          "text": [
            "Train: Loss=0.0845 Batch_id=117 Accuracy=98.09: 100%|██████████| 118/118 [00:27<00:00,  4.28it/s]\n"
          ]
        },
        {
          "output_type": "stream",
          "name": "stdout",
          "text": [
            "Test set: Average loss: 0.0398, Accuracy: 9900/10000 (99.00%)\n",
            "\n",
            "Adjusting learning rate of group 0 to 1.0000e-02.\n",
            "Epoch 6\n"
          ]
        },
        {
          "output_type": "stream",
          "name": "stderr",
          "text": [
            "Train: Loss=0.0342 Batch_id=117 Accuracy=98.24: 100%|██████████| 118/118 [00:26<00:00,  4.37it/s]\n"
          ]
        },
        {
          "output_type": "stream",
          "name": "stdout",
          "text": [
            "Test set: Average loss: 0.0338, Accuracy: 9907/10000 (99.07%)\n",
            "\n",
            "Adjusting learning rate of group 0 to 1.0000e-02.\n",
            "Epoch 7\n"
          ]
        },
        {
          "output_type": "stream",
          "name": "stderr",
          "text": [
            "Train: Loss=0.0976 Batch_id=117 Accuracy=98.45: 100%|██████████| 118/118 [00:26<00:00,  4.42it/s]\n"
          ]
        },
        {
          "output_type": "stream",
          "name": "stdout",
          "text": [
            "Test set: Average loss: 0.0369, Accuracy: 9889/10000 (98.89%)\n",
            "\n",
            "Adjusting learning rate of group 0 to 1.0000e-02.\n",
            "Epoch 8\n"
          ]
        },
        {
          "output_type": "stream",
          "name": "stderr",
          "text": [
            "Train: Loss=0.0280 Batch_id=117 Accuracy=98.48: 100%|██████████| 118/118 [00:26<00:00,  4.41it/s]\n"
          ]
        },
        {
          "output_type": "stream",
          "name": "stdout",
          "text": [
            "Test set: Average loss: 0.0345, Accuracy: 9913/10000 (99.13%)\n",
            "\n",
            "Adjusting learning rate of group 0 to 1.0000e-02.\n",
            "Epoch 9\n"
          ]
        },
        {
          "output_type": "stream",
          "name": "stderr",
          "text": [
            "Train: Loss=0.0610 Batch_id=117 Accuracy=98.54: 100%|██████████| 118/118 [00:27<00:00,  4.31it/s]\n"
          ]
        },
        {
          "output_type": "stream",
          "name": "stdout",
          "text": [
            "Test set: Average loss: 0.0305, Accuracy: 9911/10000 (99.11%)\n",
            "\n",
            "Adjusting learning rate of group 0 to 1.0000e-02.\n",
            "Epoch 10\n"
          ]
        },
        {
          "output_type": "stream",
          "name": "stderr",
          "text": [
            "Train: Loss=0.0640 Batch_id=117 Accuracy=98.62: 100%|██████████| 118/118 [00:26<00:00,  4.39it/s]\n"
          ]
        },
        {
          "output_type": "stream",
          "name": "stdout",
          "text": [
            "Test set: Average loss: 0.0266, Accuracy: 9925/10000 (99.25%)\n",
            "\n",
            "Adjusting learning rate of group 0 to 1.0000e-02.\n",
            "Epoch 11\n"
          ]
        },
        {
          "output_type": "stream",
          "name": "stderr",
          "text": [
            "Train: Loss=0.1252 Batch_id=117 Accuracy=98.71: 100%|██████████| 118/118 [00:26<00:00,  4.42it/s]\n"
          ]
        },
        {
          "output_type": "stream",
          "name": "stdout",
          "text": [
            "Test set: Average loss: 0.0297, Accuracy: 9908/10000 (99.08%)\n",
            "\n",
            "Adjusting learning rate of group 0 to 1.0000e-02.\n",
            "Epoch 12\n"
          ]
        },
        {
          "output_type": "stream",
          "name": "stderr",
          "text": [
            "Train: Loss=0.0275 Batch_id=117 Accuracy=98.81: 100%|██████████| 118/118 [00:27<00:00,  4.32it/s]\n"
          ]
        },
        {
          "output_type": "stream",
          "name": "stdout",
          "text": [
            "Test set: Average loss: 0.0279, Accuracy: 9922/10000 (99.22%)\n",
            "\n",
            "Adjusting learning rate of group 0 to 1.0000e-02.\n",
            "Epoch 13\n"
          ]
        },
        {
          "output_type": "stream",
          "name": "stderr",
          "text": [
            "Train: Loss=0.0500 Batch_id=117 Accuracy=98.84: 100%|██████████| 118/118 [00:26<00:00,  4.40it/s]\n"
          ]
        },
        {
          "output_type": "stream",
          "name": "stdout",
          "text": [
            "Test set: Average loss: 0.0259, Accuracy: 9932/10000 (99.32%)\n",
            "\n",
            "Adjusting learning rate of group 0 to 1.0000e-02.\n",
            "Epoch 14\n"
          ]
        },
        {
          "output_type": "stream",
          "name": "stderr",
          "text": [
            "Train: Loss=0.0851 Batch_id=117 Accuracy=98.84: 100%|██████████| 118/118 [00:26<00:00,  4.38it/s]\n"
          ]
        },
        {
          "output_type": "stream",
          "name": "stdout",
          "text": [
            "Test set: Average loss: 0.0259, Accuracy: 9924/10000 (99.24%)\n",
            "\n",
            "Adjusting learning rate of group 0 to 1.0000e-02.\n",
            "Epoch 15\n"
          ]
        },
        {
          "output_type": "stream",
          "name": "stderr",
          "text": [
            "Train: Loss=0.0716 Batch_id=117 Accuracy=98.87: 100%|██████████| 118/118 [00:27<00:00,  4.26it/s]\n"
          ]
        },
        {
          "output_type": "stream",
          "name": "stdout",
          "text": [
            "Test set: Average loss: 0.0238, Accuracy: 9929/10000 (99.29%)\n",
            "\n",
            "Adjusting learning rate of group 0 to 1.0000e-03.\n",
            "Epoch 16\n"
          ]
        },
        {
          "output_type": "stream",
          "name": "stderr",
          "text": [
            "Train: Loss=0.0376 Batch_id=117 Accuracy=98.97: 100%|██████████| 118/118 [00:26<00:00,  4.41it/s]\n"
          ]
        },
        {
          "output_type": "stream",
          "name": "stdout",
          "text": [
            "Test set: Average loss: 0.0215, Accuracy: 9941/10000 (99.41%)\n",
            "\n",
            "Adjusting learning rate of group 0 to 1.0000e-03.\n",
            "Epoch 17\n"
          ]
        },
        {
          "output_type": "stream",
          "name": "stderr",
          "text": [
            "Train: Loss=0.0282 Batch_id=117 Accuracy=99.09: 100%|██████████| 118/118 [00:26<00:00,  4.40it/s]\n"
          ]
        },
        {
          "output_type": "stream",
          "name": "stdout",
          "text": [
            "Test set: Average loss: 0.0214, Accuracy: 9940/10000 (99.40%)\n",
            "\n",
            "Adjusting learning rate of group 0 to 1.0000e-03.\n",
            "Epoch 18\n"
          ]
        },
        {
          "output_type": "stream",
          "name": "stderr",
          "text": [
            "Train: Loss=0.0378 Batch_id=117 Accuracy=99.06: 100%|██████████| 118/118 [00:26<00:00,  4.43it/s]\n"
          ]
        },
        {
          "output_type": "stream",
          "name": "stdout",
          "text": [
            "Test set: Average loss: 0.0209, Accuracy: 9935/10000 (99.35%)\n",
            "\n",
            "Adjusting learning rate of group 0 to 1.0000e-03.\n",
            "Epoch 19\n"
          ]
        },
        {
          "output_type": "stream",
          "name": "stderr",
          "text": [
            "Train: Loss=0.0467 Batch_id=117 Accuracy=99.06: 100%|██████████| 118/118 [00:26<00:00,  4.43it/s]\n"
          ]
        },
        {
          "output_type": "stream",
          "name": "stdout",
          "text": [
            "Test set: Average loss: 0.0208, Accuracy: 9937/10000 (99.37%)\n",
            "\n",
            "Adjusting learning rate of group 0 to 1.0000e-03.\n",
            "Epoch 20\n"
          ]
        },
        {
          "output_type": "stream",
          "name": "stderr",
          "text": [
            "Train: Loss=0.0260 Batch_id=117 Accuracy=99.07: 100%|██████████| 118/118 [00:26<00:00,  4.39it/s]\n"
          ]
        },
        {
          "output_type": "stream",
          "name": "stdout",
          "text": [
            "Test set: Average loss: 0.0207, Accuracy: 9935/10000 (99.35%)\n",
            "\n",
            "Adjusting learning rate of group 0 to 1.0000e-03.\n"
          ]
        }
      ]
    },
    {
      "cell_type": "code",
      "source": [
        "fig, (ax1, ax2) = plt.subplots(1, 2, figsize=(12,5))\n",
        "\n",
        "ax1.plot(train_losses, c='blue')\n",
        "ax1.plot(test_losses, c='red')\n",
        "ax1.title.set_text('Training and Test losses')\n",
        "\n",
        "ax2.plot(train_acc, c='blue')\n",
        "ax2.plot(test_acc, c='red')\n",
        "ax2.title.set_text('Training and Test accuracy')"
      ],
      "metadata": {
        "colab": {
          "base_uri": "https://localhost:8080/",
          "height": 468
        },
        "id": "jzUCels5VzW1",
        "outputId": "846a2512-7a98-45d4-8a7f-07a24ecc1826"
      },
      "execution_count": null,
      "outputs": [
        {
          "output_type": "display_data",
          "data": {
            "text/plain": [
              "<Figure size 1200x500 with 2 Axes>"
            ],
            "image/png": "[encoded data removed]"
          },
          "metadata": {}
        }
      ]
    },
    {
      "cell_type": "code",
      "source": [
        "max(test_acc)"
      ],
      "metadata": {
        "colab": {
          "base_uri": "https://localhost:8080/"
        },
        "id": "XlE_W7ULV1g_",
        "outputId": "dc7a0527-c1cd-4899-b4d8-4495ba688969"
      },
      "execution_count": null,
      "outputs": [
        {
          "output_type": "execute_result",
          "data": {
            "text/plain": [
              "99.41"
            ]
          },
          "metadata": {},
          "execution_count": 9
        }
      ]
    },
    {
      "cell_type": "code",
      "source": [],
      "metadata": {
        "id": "pBRKXYvFb7J6"
      },
      "execution_count": null,
      "outputs": []
    }
  ]
}