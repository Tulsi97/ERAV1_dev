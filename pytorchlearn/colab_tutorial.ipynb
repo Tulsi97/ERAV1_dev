{
 "cells": [
  {
   "cell_type": "code",
   "execution_count": null,
   "metadata": {
    "colab": {
     "base_uri": "https://localhost:8080/"
    },
    "executionInfo": {
     "elapsed": 23445,
     "status": "ok",
     "timestamp": 1683954200957,
     "user": {
      "displayName": "Kumar Gupta",
      "userId": "13073488657133657702"
     },
     "user_tz": -330
    },
    "id": "JmMpzz040JwP",
    "outputId": "321d8696-a584-498b-ef59-b455f423d0d1"
   },
   "outputs": [
    {
     "name": "stdout",
     "output_type": "stream",
     "text": [
      "Mounted at /content/gdrive\n"
     ]
    }
   ],
   "source": [
    "from google.colab import drive\n",
    "drive.mount('/content/gdrive')\n"
   ]
  },
  {
   "cell_type": "code",
   "execution_count": null,
   "metadata": {
    "colab": {
     "base_uri": "https://localhost:8080/"
    },
    "executionInfo": {
     "elapsed": 3,
     "status": "ok",
     "timestamp": 1683954249776,
     "user": {
      "displayName": "Kumar Gupta",
      "userId": "13073488657133657702"
     },
     "user_tz": -330
    },
    "id": "29MqzquZfqA5",
    "outputId": "8d5dc247-39dd-439b-9769-20ebe07a0d8c"
   },
   "outputs": [
    {
     "name": "stdout",
     "output_type": "stream",
     "text": [
      "drive  gdrive  sample_data\n"
     ]
    }
   ],
   "source": [
    "!ls"
   ]
  },
  {
   "cell_type": "code",
   "execution_count": null,
   "metadata": {
    "colab": {
     "base_uri": "https://localhost:8080/"
    },
    "executionInfo": {
     "elapsed": 366,
     "status": "ok",
     "timestamp": 1683954465899,
     "user": {
      "displayName": "Kumar Gupta",
      "userId": "13073488657133657702"
     },
     "user_tz": -330
    },
    "id": "jM9MZol716n9",
    "outputId": "8d4c7d8a-f370-4f9e-b094-7c6406489482"
   },
   "outputs": [
    {
     "name": "stdout",
     "output_type": "stream",
     "text": [
      "'Asgmnt ERA V1 S2.ipynb'   ERAV1\t        Untitled0.ipynb\n",
      " colab_tutorial.ipynb\t   feature_extraction\n"
     ]
    }
   ],
   "source": [
    "!ls  gdrive/MyDrive/'Colab Notebooks'"
   ]
  },
  {
   "cell_type": "markdown",
   "metadata": {
    "id": "QBS7iaWS2nwG"
   },
   "source": [
    "\n",
    "\n",
    "```\n",
    "To make directory: mkdir \"/content/drive/My Drive/name\"\n",
    "\n",
    "OR\n",
    "\n",
    "You can use !mkdir foldername command to create folder in the current working directory. It will be by default /content.\n",
    "\n",
    "If you want to create directory with specific condition then use os.mkdir('folder_path') to create the directory.\n",
    "\n",
    "import os.path\n",
    "from os import path\n",
    "\n",
    "if path.exists('/content/malayalam_keyphrase_extraction') == False:\n",
    "  os.mkdir('/content/malayalam_keyphrase_extraction')\n",
    "\n",
    "os.chdir('/content/malayalam_keyphrase_extraction')\n",
    "!pwd\n",
    "!ls\n",
    "\n",
    "link [link text](https://medium.com/@ashwindesilva/how-to-use-google-colaboratory-to-clone-a-github-repository-e07cf8d3d22b)\n",
    "```\n",
    "\n"
   ]
  },
  {
   "cell_type": "code",
   "execution_count": 11,
   "metadata": {
    "colab": {
     "base_uri": "https://localhost:8080/"
    },
    "executionInfo": {
     "elapsed": 408,
     "status": "ok",
     "timestamp": 1683954686706,
     "user": {
      "displayName": "Kumar Gupta",
      "userId": "13073488657133657702"
     },
     "user_tz": -330
    },
    "id": "nL3YS7Qx24UM",
    "outputId": "c92ae9a3-9fb6-456c-f663-9e7c9e1fbc45"
   },
   "outputs": [
    {
     "name": "stdout",
     "output_type": "stream",
     "text": [
      "mkdir: cannot create directory ‘gdrive/MyDrive/Colab Notebooks/feature_extraction’: Transport endpoint is not connected\n"
     ]
    }
   ],
   "source": [
    "%mkdir \"gdrive/MyDrive/Colab Notebooks/feature_extraction\""
   ]
  },
  {
   "cell_type": "code",
   "execution_count": null,
   "metadata": {
    "colab": {
     "base_uri": "https://localhost:8080/"
    },
    "executionInfo": {
     "elapsed": 782,
     "status": "ok",
     "timestamp": 1683876956310,
     "user": {
      "displayName": "Kumar Gupta",
      "userId": "13073488657133657702"
     },
     "user_tz": -330
    },
    "id": "Yns9IOTC4uI5",
    "outputId": "ec9481b1-b5fe-4bce-a06b-ff2d92dec4a6"
   },
   "outputs": [
    {
     "name": "stdout",
     "output_type": "stream",
     "text": [
      "/content/gdrive/MyDrive/Colab Notebooks/feature_extraction\n"
     ]
    }
   ],
   "source": [
    "!pwd"
   ]
  },
  {
   "cell_type": "markdown",
   "metadata": {
    "id": "lptEOmrY3df8"
   },
   "source": [
    "\n",
    "\n",
    "```\n",
    "Clone repo:  ! git clone link/to/your/repo\n",
    "Pull repo:   !git pull\n",
    "To run the python file: !python app.py\n",
    "```\n",
    "\n"
   ]
  },
  {
   "cell_type": "code",
   "execution_count": null,
   "metadata": {
    "colab": {
     "base_uri": "https://localhost:8080/"
    },
    "executionInfo": {
     "elapsed": 1005,
     "status": "ok",
     "timestamp": 1683876764337,
     "user": {
      "displayName": "Kumar Gupta",
      "userId": "13073488657133657702"
     },
     "user_tz": -330
    },
    "id": "8rzOILS_3Udi",
    "outputId": "623e8a62-132a-4d90-c6fe-37737cafe3a6"
   },
   "outputs": [
    {
     "name": "stdout",
     "output_type": "stream",
     "text": [
      "/content/gdrive/MyDrive/Colab Notebooks/feature_extraction\n"
     ]
    }
   ],
   "source": [
    "%cd gdrive/MyDrive/Colab Notebooks/feature_extraction"
   ]
  },
  {
   "cell_type": "code",
   "execution_count": null,
   "metadata": {
    "colab": {
     "base_uri": "https://localhost:8080/"
    },
    "executionInfo": {
     "elapsed": 4,
     "status": "ok",
     "timestamp": 1683876779323,
     "user": {
      "displayName": "Kumar Gupta",
      "userId": "13073488657133657702"
     },
     "user_tz": -330
    },
    "id": "z61x_BdA4GQo",
    "outputId": "c2b14f37-6318-46d4-a0f0-71f1c5d7aed1"
   },
   "outputs": [
    {
     "name": "stdout",
     "output_type": "stream",
     "text": [
      "/content/gdrive/MyDrive/Colab Notebooks/feature_extraction\n"
     ]
    }
   ],
   "source": [
    "!pwd"
   ]
  },
  {
   "cell_type": "code",
   "execution_count": null,
   "metadata": {
    "colab": {
     "base_uri": "https://localhost:8080/"
    },
    "executionInfo": {
     "elapsed": 9641,
     "status": "ok",
     "timestamp": 1683876820486,
     "user": {
      "displayName": "Kumar Gupta",
      "userId": "13073488657133657702"
     },
     "user_tz": -330
    },
    "id": "0Ja6c9kv4J9j",
    "outputId": "935e7c25-7f3c-466e-f23f-e05f1fd0fcb3"
   },
   "outputs": [
    {
     "name": "stdout",
     "output_type": "stream",
     "text": [
      "Cloning into 'lucent-notebooks'...\n",
      "remote: Enumerating objects: 72, done.\u001b[K\n",
      "remote: Counting objects: 100% (6/6), done.\u001b[K\n",
      "remote: Compressing objects: 100% (6/6), done.\u001b[K\n",
      "remote: Total 72 (delta 0), reused 0 (delta 0), pack-reused 66\u001b[K\n",
      "Unpacking objects: 100% (72/72), 22.32 MiB | 3.27 MiB/s, done.\n"
     ]
    }
   ],
   "source": [
    "! git clone https://github.com/greentfrapp/lucent-notebooks.git"
   ]
  },
  {
   "cell_type": "code",
   "execution_count": null,
   "metadata": {
    "colab": {
     "base_uri": "https://localhost:8080/"
    },
    "executionInfo": {
     "elapsed": 5,
     "status": "ok",
     "timestamp": 1683876851625,
     "user": {
      "displayName": "Kumar Gupta",
      "userId": "13073488657133657702"
     },
     "user_tz": -330
    },
    "id": "ynIg0Dtu4ZUB",
    "outputId": "e5748856-4227-4d9a-92b9-23a869397276"
   },
   "outputs": [
    {
     "name": "stdout",
     "output_type": "stream",
     "text": [
      "/content/gdrive/MyDrive/Colab Notebooks/feature_extraction\n"
     ]
    }
   ],
   "source": [
    "!pwd"
   ]
  },
  {
   "cell_type": "code",
   "execution_count": null,
   "metadata": {
    "colab": {
     "base_uri": "https://localhost:8080/"
    },
    "executionInfo": {
     "elapsed": 5,
     "status": "ok",
     "timestamp": 1683876833697,
     "user": {
      "displayName": "Kumar Gupta",
      "userId": "13073488657133657702"
     },
     "user_tz": -330
    },
    "id": "H76WMNLE4UMn",
    "outputId": "0b0d269a-6106-4fe9-eece-2896a02dcc8f"
   },
   "outputs": [
    {
     "name": "stdout",
     "output_type": "stream",
     "text": [
      "fatal: not a git repository (or any parent up to mount point /content)\n",
      "Stopping at filesystem boundary (GIT_DISCOVERY_ACROSS_FILESYSTEM not set).\n"
     ]
    }
   ],
   "source": [
    "! git pull"
   ]
  },
  {
   "cell_type": "code",
   "execution_count": null,
   "metadata": {
    "colab": {
     "base_uri": "https://localhost:8080/"
    },
    "executionInfo": {
     "elapsed": 439,
     "status": "ok",
     "timestamp": 1683876873065,
     "user": {
      "displayName": "Kumar Gupta",
      "userId": "13073488657133657702"
     },
     "user_tz": -330
    },
    "id": "ItDu6hsX1_R0",
    "outputId": "9c017e62-423f-44e2-b1e8-8c30ea1e92ca"
   },
   "outputs": [
    {
     "name": "stdout",
     "output_type": "stream",
     "text": [
      "lucent-notebooks\n"
     ]
    }
   ],
   "source": [
    "!ls"
   ]
  },
  {
   "cell_type": "code",
   "execution_count": null,
   "metadata": {
    "colab": {
     "base_uri": "https://localhost:8080/"
    },
    "executionInfo": {
     "elapsed": 4,
     "status": "ok",
     "timestamp": 1683875868076,
     "user": {
      "displayName": "Kumar Gupta",
      "userId": "13073488657133657702"
     },
     "user_tz": -330
    },
    "id": "oi63yhrZ0dAk",
    "outputId": "f59b99f9-6ed0-4720-8cf0-8d38e33d8388"
   },
   "outputs": [
    {
     "name": "stdout",
     "output_type": "stream",
     "text": [
      "drive  sample_data\n"
     ]
    }
   ],
   "source": [
    "!ls"
   ]
  },
  {
   "cell_type": "markdown",
   "metadata": {
    "id": "mVZs3Vvi5D6y"
   },
   "source": [
    "\n",
    "\n",
    "```\n",
    "Google Colab Tutorial\n",
    "Colab is a Google’s free cloud service which will let you run your deep learning or machine learning models in cloud.\n",
    "\n",
    "Creating New Colab Notebook\n",
    "Open your Google Drive\n",
    "Create a new notebook via Right click > More > Colaboratory\n",
    "GPU Setting\n",
    "Edit > Notebook settings or Runtime>Change runtime type and select GPU as Hardware accelerator\n",
    "\n",
    "RAM Info\n",
    "!cat /proc/meminfo\n",
    "CPU Info\n",
    "!cat /proc/cpuinfo\n",
    "Install Libraries\n",
    "!pip install or !apt-get install\n",
    "\n",
    "!pip3 install tensorflow==1.8\n",
    "!pip3 install keras\n",
    "!pip3 install torch torchvision\n",
    "!apt-get install python-numpy python-scipy\n",
    "Install OpenCV for c/c++\n",
    "!apt-get install -qq gcc-5 g++-5 -y\n",
    "!ln -s /usr/bin/gcc-5 \n",
    "!ln -s /usr/bin/g++-5 \n",
    "\n",
    "!sudo apt-get update\n",
    "!sudo apt-get upgrade\n",
    "\n",
    "#Install Dependencies\n",
    "!sudo apt-get install -y build-essential \n",
    "!sudo apt-get install -y cmake git libgtk2.0-dev pkg-config libavcodec-dev libavformat-dev libswscale-dev\n",
    "#The following command is needed to process images:\n",
    "!sudo apt-get install -y python-dev python-numpy libtbb2 libtbb-dev libjpeg-dev libpng-dev libtiff-dev libjasper-dev libdc1394-22-dev\n",
    "#To process videos:\n",
    "!sudo apt-get install -y libavcodec-dev libavformat-dev libswscale-dev libv4l-dev\n",
    "!sudo apt-get install -y libxvidcore-dev libx264-dev\n",
    "#For GUI:\n",
    "!sudo apt-get install -y libgtk-3-dev\n",
    "#For optimization:\n",
    "!sudo apt-get install -y libatlas-base-dev gfortran pylint\n",
    "!wget https://github.com/opencv/opencv/archive/3.4.0.zip -O opencv-3.4.0.zip\n",
    "!sudo apt-get install unzip\n",
    "!unzip opencv-3.4.0.zip\n",
    "%cd opencv-3.4.0\n",
    "!mkdir build\n",
    "%cd build\n",
    "!cmake -D WITH_TBB=ON -D WITH_OPENMP=ON -D WITH_IPP=ON -D CMAKE_BUILD_TYPE=RELEASE -D BUILD_EXAMPLES=OFF -D WITH_NVCUVID=ON -D WITH_CUDA=OFF -D BUILD_DOCS=OFF -D BUILD_PERF_TESTS=OFF -D BUILD_TESTS=OFF -D WITH_CSTRIPES=ON -D WITH_OPENCL=ON CMAKE_INSTALL_PREFIX=/usr/local/ ..\n",
    "!make -j`nproc`\n",
    "!sudo make install\n",
    "\n",
    "Cloning Github Repo to Google Colab\n",
    "!git clone https://github.com/ildoonet/tf-pose-estimation.git\n",
    "Mount your Google Drive\n",
    "from google.colab import drive\n",
    "drive.mount('/content/drive/')\n",
    "Check your Folder Data\n",
    "!ls Drive/test\n",
    "Upload code from your system\n",
    "from google.colab import files\n",
    "uploaded = files.upload()\n",
    "Make zip file of your Data\n",
    "from google.colab import files\n",
    "import zipfile\n",
    "import sys\n",
    "foldername = 'your folder or filename'\n",
    "zipfile.ZipFile('Drive/'+foldername + '.zip', 'w', zipfile.ZIP_DEFLATED)\n",
    "Downloading the data from the colab\n",
    "from google.colab import files\n",
    "files.download('Drive/test.zip')\n",
    "```\n",
    "\n"
   ]
  },
  {
   "cell_type": "code",
   "execution_count": null,
   "metadata": {
    "id": "_bmXSr8U0gac"
   },
   "outputs": [],
   "source": []
  }
 ],
 "metadata": {
  "colab": {
   "authorship_tag": "ABX9TyNpnWfHmzKUiKQmT3FIyT0s",
   "mount_file_id": "1HT7J3-OrVOp56E4qGPcfP4EGoZwo9Yi_",
   "provenance": []
  },
  "kernelspec": {
   "display_name": "Python 3",
   "language": "python",
   "name": "python3"
  },
  "language_info": {
   "codemirror_mode": {
    "name": "ipython",
    "version": 3
   },
   "file_extension": ".py",
   "mimetype": "text/x-python",
   "name": "python",
   "nbconvert_exporter": "python",
   "pygments_lexer": "ipython3",
   "version": "3.6.9"
  }
 },
 "nbformat": 4,
 "nbformat_minor": 4
}
